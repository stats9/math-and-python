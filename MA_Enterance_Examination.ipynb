{
 "cells": [
  {
   "attachments": {},
   "cell_type": "markdown",
   "metadata": {},
   "source": [
    "<address>\n",
    "<b><p style=\" color : gray; font-size : 40px; font-family : Ariel; text-align : left;\">Solving some questions of the Master's entrance exam (Statistics) </p><b>\n",
    "<b><p style=\" color : gray; font-size : 40px; font-family : Ariel; text-align : left;\"> Created by: <a href=\"https://github.com/stats9\"> @stats9</a></p><b>\n",
    "</address>\n",
    " <hr style=\"height:10px;border-width:0;color:gray;background-color:gray\"> "
   ]
  },
  {
   "attachments": {},
   "cell_type": "markdown",
   "metadata": {},
   "source": [
    "<br><br><br><br>\n",
    "\n",
    "### MA 1400; Problem 70: "
   ]
  },
  {
   "attachments": {},
   "cell_type": "markdown",
   "metadata": {},
   "source": [
    "$$\n",
    "\\begin{aligned}\n",
    "& X \\sim \\text{Unif}(0, 1), ~~\\text{if}\\quad Y = \\begin{cases}1 & X \\geq a, \\\\ 0 & X < a,\\end{cases}\\quad \\text{and}~~ 0 < a < 1 \\implies \\\\\n",
    "& \\max \\text{Corr}(X, Y) = ?\n",
    "\\end{aligned}\n",
    "$$"
   ]
  },
  {
   "attachments": {},
   "cell_type": "markdown",
   "metadata": {},
   "source": [
    "### Answer   ---> \n",
    "<br><Br>\n",
    "\n",
    "$$\n",
    "\\begin{aligned}\n",
    "& \\text{Corr}(X, Y) = \\frac{\\text{Cov}(X, Y)}{\\sqrt{\\text{Var}(X) \\times \\text{Var}(Y)}}, \\\\\n",
    "& Y \\sim \\text{Binom}(1, prob = \\mathcal{P}(X \\geq a)) \\implies Y \\sim \\text{Binom}(1, 1-a),\\\\\n",
    "& \\text{Var}(X) = \\frac{1}{12}~, ~~\\text{Var}(Y) = a \\times (1-a), ~~ \\mathcal{E}(X) = \\frac{1}{2}, ~~\\mathcal{E}(Y) = 1-a \\implies\\\\\n",
    "& \\text{Cov}(X, Y) = \\mathcal{E}(XY) - \\mathcal{E}(X)\\mathcal{E}(Y), \\\\\n",
    "& \\mathcal{E}(XY) = \\int_{s_x}\\sum_{y = 0}^1 xy f(x, y)~ dx = \\\\\n",
    "& \\int_{s_x}xf(x, y = 1)~dx = \\int_{s_x}xf(x, x \\geq a)~dx = \\int_a^1 xf(x)~dx \\quad\\quad\\quad (i)\\\\\n",
    "& = \\int_a^1 x~dx = \\frac{1-a^2}{2}\\\\\n",
    "& \\implies \\text{Cov}(X, Y) = \\frac{1-a^2}{2} - \\frac{1}{2}\\times (1-a) = \\frac{1-a^2 -(1-a)}{2} = \\frac{a(1-a)}{2}, \\\\\n",
    "&\\implies \\text{Corr}(X, Y) = \\frac{\\frac{a(1-a)}{2}}{\\sqrt{\\frac{1}{12}\\times a(1-a)}} = \\sqrt{3} \\times \\sqrt{a(1-a)}\\\\\n",
    "& \\underset{a}{\\text{argmax}} ~~\\sqrt{3} \\times \\sqrt{a(1-a)} = \\underset{a}{\\text{argmax}}~~ a(1-a) = \\frac{1}{2} ~ ? \\implies \\\\\n",
    "& \\max \\text{Corr}(X, Y) = \\sqrt{3}\\times \\sqrt{\\frac{1}{2}\\times (1 - \\frac{1}{2})} = \\frac{\\sqrt{3}}{2}\n",
    "\\end{aligned}\n",
    "$$"
   ]
  },
  {
   "cell_type": "code",
   "execution_count": 59,
   "metadata": {},
   "outputs": [
    {
     "name": "stdout",
     "output_type": "stream",
     "text": [
      "\n",
      "max of correlation between X and Y       : 0.8659, \n",
      "\n",
      "and value of a that make max correlation : 0.5000, \n",
      "\n",
      "sqrt(3)/2                                : 0.8660.\n",
      "\n"
     ]
    }
   ],
   "source": [
    "## python simulate\n",
    "\n",
    "import numpy as np \n",
    "from scipy.stats import uniform\n",
    "a, b = 0, 1\n",
    "rv = uniform(a, b)\n",
    "def q_70(n, a):\n",
    "    x_sim = rv.rvs(size = n, random_state = 1234)\n",
    "    y_sim = 1 * (x_sim >= a)\n",
    "    temp1 = np.stack((x_sim, y_sim), axis = 0)\n",
    "    cor_result = np.corrcoef(temp1)[0, 1]\n",
    "    return cor_result\n",
    "\n",
    "a = np.linspace(0, 1, 50)\n",
    "a = a[1:(len(a)-1)] # remove 0, 1 \n",
    "a = np.append(a, 1/2) # add 1/2\n",
    "n = int(1e+6) # define number of iteration to simulate data\n",
    "q_70 = np.vectorize(q_70)\n",
    "Result = q_70(n = n, a = a)\n",
    "print(\"\"\"\n",
    "max of correlation between X and Y       : {:.4f}, \\n\n",
    "and value of a that make max correlation : {:.4f}, \\n\n",
    "sqrt(3)/2                                : {:.4f}.\n",
    "\"\"\".format(Result.max(), a[Result.argmax()], np.sqrt(3)/2))"
   ]
  },
  {
   "attachments": {},
   "cell_type": "markdown",
   "metadata": {},
   "source": [
    "<hr><hr>\n",
    "\n",
    "<br><br>\n",
    "\n",
    "### MA 1400; Problem 69\n"
   ]
  },
  {
   "attachments": {},
   "cell_type": "markdown",
   "metadata": {},
   "source": [
    "### Ansewer --->\n",
    "<br><br>\n",
    "$$\n",
    "\\begin{aligned}\n",
    "& \\text{if}~~ X\\sim F, ~~ \\mathcal{P}(X \\geq 0) = 1, ~~ \\mathcal{E}(X^2) < +\\infty,  ~~ 0 < a < 1 \\implies \\\\\n",
    "& ~ \\\\\n",
    "& \\text{Proof By Contradiction}: \\\\\n",
    "& ~\\\\\n",
    "&  \\mathcal{E}(X) \\leq \\mathcal{E}(X\\text{I}_{\\left\\{X > a\\mathcal{E}(X)\\right\\}}) \\\\\n",
    "& ~\\\\\n",
    "& \\overset{\\underset{\\text{Problem 70}}{(i)}}{\\iff}  \\int_0^\\infty xf(x)dx \\leq \\int_{a\\mathcal{E}(X)}^\\infty xf(x)dx\\\\\n",
    "& ~\\\\\n",
    "& \\iff \\int_{0}^{a\\mathcal{E}(X)}xf(x)dx \\leq 0 ~~\\boldsymbol{{\\Large \\therefore}}\\\\\n",
    "& ~ \\\\\n",
    "&\\iff \\mathcal{P}(X = 0) = 1 \\lor a = 0\\quad \\text{False}\n",
    "\\end{aligned}\n",
    "$$"
   ]
  },
  {
   "attachments": {},
   "cell_type": "markdown",
   "metadata": {},
   "source": [
    "<hr><hr>\n",
    "<br><br><br>\n",
    "\n",
    "\n",
    "### MA 1400; Problem 68 \n"
   ]
  },
  {
   "attachments": {},
   "cell_type": "markdown",
   "metadata": {},
   "source": [
    "$$\n",
    "\\def\\ind{\\perp\\!\\!\\!\\!\\perp} \n",
    "\\begin{aligned}\n",
    "&\\text{let}~~ X_i \\overset{iid}{\\sim}\\mathcal{N}(0, 1), \\quad i = 1, 2. \\\\\n",
    "& U \\sim \\text{Unif}(0, 1) ~~\\text{and}~~ U \\ind X_i, \\quad i = 1, 2. \\\\\n",
    "\\end{aligned}\n",
    "$$"
   ]
  },
  {
   "attachments": {},
   "cell_type": "markdown",
   "metadata": {},
   "source": [
    "$$\n",
    "\\begin{aligned}\n",
    "& Z = UX_1 + (1-U)X_2 \\implies \\text{Var}(Z) = ?\n",
    "\\end{aligned}\n",
    "$$"
   ]
  },
  {
   "attachments": {},
   "cell_type": "markdown",
   "metadata": {},
   "source": [
    "### Answer ---> \n",
    "\n",
    "\n",
    "$$\n",
    "\\begin{aligned}\n",
    "& \\mathcal{E}(X_1) = \\mathcal{E}(X_2) = 0, ~~ \\mathcal{E}(U) = \\frac{1}{2}, ~~\\mathcal{E}(X_1^2) = \\mathcal{E}(X_2^2) = 1, ~~ \\mathcal{E}(U^2) = \\frac{1}{3}\\\\\n",
    "& \\text{Var}(Z) = \\mathcal{E}(Z^2) - \\mathcal{E}(Z)^2 = \\mathcal{E}((UX_1 + (1-U)X_2)^2) - (\\mathcal{E}(UX_1 + (1-U)X_2))^2 = \\\\\n",
    "& \\mathcal{E}(U^2 X_1 ^2 - 2U^2 X_1 X_2 + U^2 X_2 ^2 + 2U X_1 X_2 - 2UX_2 ^2 + X_2 ^2)-0 = \\\\\n",
    "& \\frac{1}{3}\\times 1 -0 + \\frac{1}{3}\\times 1 -2\\times \\frac{1}{2}\\times 1 + 1 = \\frac{2}{3}\n",
    "\\end{aligned}\n",
    "$$"
   ]
  },
  {
   "attachments": {},
   "cell_type": "markdown",
   "metadata": {},
   "source": [
    "<hr><hr><br><br><br>\n",
    "\n",
    "### MA 1400; Problem 67\n",
    "\n",
    "\n",
    "\n",
    "$$\n",
    "\\def\\E{\\mathcal{E}}\n",
    "\\def\\N{\\mathcal{N}}\n",
    "\\def\\v{\\text{Var}}\n",
    "\\def\\c{\\text{Cov}}\n",
    "\\begin{aligned}\n",
    "&\\text{if} ~~ (X, Y) \\sim \\N(\\mu_x, \\mu_y, \\sigma^2_x, \\sigma^2_y, \\rho), \\\\\n",
    "&\\text{Var}(X) = 1, ~~ \\E(X \\vert Y = y) = \\frac{1}{16}y - 3, \\quad \\E(Y\\vert X = x) = 4x + 3 \\implies \\E(\\text{Var}(Y \\vert X = x)) = ? \n",
    "\\end{aligned}\n",
    "$$\n",
    "\n",
    "<br>\n",
    "\n",
    "### Answer --->\n",
    "\n",
    "$$\n",
    "\\begin{aligned}\n",
    "& \\text{Cov}(X, Y) = \\text{Cov}(X, \\E(Y\\vert X)) = \\text{Cov}(X, 4X + 3) = 4\\text{Var}(X) = 4, \\\\\n",
    "& \\text{Cov}(X, Y) = 4 = \\text{Cov}(Y, \\E(X\\vert Y)) = \\frac{1}{16}\\text{Var}(Y) \\implies \\text{Var}(Y) = 64, \\\\\n",
    "& \\text{Var}(Y) = \\text{Var}(\\E(Y|X)) + \\E(\\v(Y\\vert X)) = \\v(4X + 3) + \\E(\\v(Y\\vert X)) = 16\\v(X) + \\E(\\v(Y\\vert X))\\\\\n",
    "&= 16 + \\E(\\v(Y\\vert X))\\implies \\E(\\v(Y\\vert X)) = 64 - 16 = 48\n",
    "\\end{aligned}\n",
    "$$\n",
    "##"
   ]
  },
  {
   "attachments": {},
   "cell_type": "markdown",
   "metadata": {},
   "source": [
    "<hr><hr>\n",
    "<br><br>\n",
    "\n",
    "### MA 1400; Problem 66\n",
    "\n",
    "$$\n",
    "\\begin{aligned}\n",
    "& \\text{MG}_{X_1, X_2, X_3}(t_1, t_2, t_3) = \\left[\\frac{1}{9}e^{t_1} + \\frac{2}{9}e^{t_2} + \\frac{3}{9}e^{t_3} + \\frac{1}{3}\\right]^{10}\\\\\n",
    "& \\implies \\E(X_1 | X_2 = 3) = ?\n",
    "\\end{aligned}\n",
    "$$\n",
    "\n",
    "<br><br>\n",
    "\n",
    "### Answer ---> \n",
    "\n",
    "$$\n",
    "\\begin{aligned}\n",
    "&\\overset{\\text{MG function}}{\\implies} (X_1, X_2, X_3) \\sim \\mathcal{MN}\\left(\\text{size} = 10, \\text{Prob} = \\left(\\frac{1}{9}, \\frac{2}{9}, \\frac{3}{9}\\right)\\right) \\implies\\\\\n",
    "& (X_1, X_2) \\sim \\mathcal{MN}\\left(\\text{size} = 10, \\text{Prob} = \\left(\\frac{1}{9}, \\frac{2}{9}\\right)\\right)\\implies \\\\\n",
    "& \\text{if}\\quad Y = X_1 | X_2 = x \\implies Y \\sim \\text{Binom}(10 - x, \\text{prob} = \\frac{p_{x_1}}{1-p_{x_2}}) \\implies \\\\\n",
    "& X_1 | X_2 = 3 \\sim \\text{Binom}(\\text{size} = 10 - 3, \\text{prob} = \\frac{\\frac{1}{9}}{1- \\frac{2}{9}}) = \\text{Binom}(\\text{size} = 7, \\text{prob} = \\frac{1}{7})\\\\\n",
    "& \\implies \\E(X_1 | X_2 = 3) = 7\\times \\frac{1}{7} = 1\n",
    "\\end{aligned}\n",
    "$$\n",
    "\n",
    "<br> \n",
    "\n",
    "#### for more details about conditional Mulinomial Distribuion you can see this [link](https://math.stackexchange.com/questions/934941/conditional-probability-in-multinomial-distribution)."
   ]
  },
  {
   "attachments": {},
   "cell_type": "markdown",
   "metadata": {},
   "source": [
    "<hr><hr>\n",
    "<br><br>\n",
    "\n",
    "\n",
    "### MA 1400; Problem 65\n",
    "\n",
    "$$\n",
    "(X, Y) \\sim \\N_2(5, 5, 25, 25, 0) \\implies \\mathcal{P}\\left[X^2 +Y^2 - 10(X + Y) > 25\\right] = ? \n",
    "$$\n",
    "\n",
    "<br><br>\n",
    "\n",
    "\n",
    "### Answer ---> \n",
    "\n",
    "$$\n",
    "\\begin{aligned}\n",
    "& \\overset{\\text{Assumptions}}{\\implies} \\quad\\E(X) = \\E(Y) = 5, ~~\\v(X) = \\v(Y) = 25,~~ \\rho(X, Y) = 0  \\implies X \\ind Y, \\\\\n",
    "& \\mathcal{P}\\left[X^2 +Y^2 - 10(X + Y) > 25\\right] = \\mathcal{P}\\left[(X^2 -10X + 25) + (Y^2 - 10Y + 25) - 50 > 25\\right]=\\\\\n",
    "& \\mathcal{P}\\left[(X- 5)^2 + (Y - 5)^2  > 75\\right] = \\mathcal{P}\\left[\\frac{(X- 5)^2}{25} + \\frac{(Y - 5)^2}{25}  > 3\\right]= \\\\\n",
    "&\\mathcal{P}\\left[\\left(\\frac{X-\\mu_x}{\\sigma_x}\\right)^2 + \\left(\\frac{Y - \\mu_y}{\\sigma_y}\\right)^2  > 3\\right] = \\\\\n",
    "& \\mathcal{P}\\left[Z_1^2 + Z_2^2 > 3\\right] = P^*, ~~ Z_i \\overset{iid}{\\sim} \\N(0, 1) \\\\\n",
    "& \\implies P^* = \\mathcal{P}\\left[\\chi^2_{(2)} > 3\\right] = \\int_{3}^\\infty \\frac{1}{2}\\exp(-\\frac{1}{2}x)~ dx = \\exp(-\\frac{1}{2}\\times 3) = \\exp(-\\frac{3}{2})\n",
    "\\end{aligned}\n",
    "$$"
   ]
  },
  {
   "attachments": {},
   "cell_type": "markdown",
   "metadata": {},
   "source": [
    "<hr><hr>\n",
    "\n",
    "### MA 1400; Problem 62\n",
    "$$\n",
    "\\def\\P{\\mathcal{P}}\n",
    "\\begin{aligned}\n",
    "\\text{let} \\quad X \\sim \\text{Binom}(\\text{size} = 5, \\text{prob} = \\frac{1}{3}), ~~Y \\sim \\text{Binom}(\\text{size} = 10, \\text{prob} = \\frac{2}{3}), ~~ X \\ind Y \\implies \\P(X = Y) = ?\n",
    "\\end{aligned}\n",
    "$$\n",
    "\n",
    "<br>\n",
    "\n",
    "### Answer ---> \n",
    "\n",
    "$$\n",
    "\\begin{align*}\n",
    "& X \\sim \\text{Binomial}\\left(5, \\frac{1}{3}\\right), ~~ Y \\sim \\text{Binomial}\\left(10, \\frac{2}{3}\\right) \\implies \\\\\n",
    "& \\text{Prob} = \\mathcal{P}(X = Y) = \\sum_{i = 0}^5 \\mathcal{P}(X = i, Y = i) = \\sum_{i = 0}^5 \\mathcal{P}(X = i) \\times \\mathcal{P}(Y = i) =\\\\\n",
    "& \\sum_{k = 0}^5 {10 \\choose k}{5 \\choose k}\\left(\\frac{2}{3}\\right)^k\\left(\\frac{1}{3}\\right)^{10-k}\\left(\\frac{1}{3}\\right)^{k}\\left(\\frac{2}{3}\\right)^{5-k}=\\\\\n",
    "& \\left(\\frac{2}{3}\\right)^5\\left(\\frac{1}{3}\\right)^{10}\\sum_{k = 0}^5 {10 \\choose k}\\times{5 \\choose 5-k}\n",
    "\\end{align*}\n",
    "$$\n",
    "based on this formula <a href=\"https://math.stackexchange.com/questions/502835/prove-that-sum-k-0r-m-choose-k-n-choose-r-k-mn-choose-r\" target=\"_top\"><b>Link</b></a>\n",
    "\n",
    "$$\n",
    "\\text{Prob} = {15 \\choose 5}\\left(\\frac{2}{3}\\right)^5\\left(\\frac{1}{3}\\right)^{10}\n",
    "$$\n",
    "\n",
    "Prove it by python: "
   ]
  },
  {
   "cell_type": "code",
   "execution_count": 1,
   "metadata": {},
   "outputs": [
    {
     "data": {
      "text/latex": [
       "$\\displaystyle \\frac{32032}{4782969}$"
      ],
      "text/plain": [
       "32032/4782969"
      ]
     },
     "execution_count": 1,
     "metadata": {},
     "output_type": "execute_result"
    }
   ],
   "source": [
    "from sympy import summation, symbols, binomial, Rational\n",
    "\n",
    "i = symbols(\"i\")\n",
    "summation(binomial(10, i) * binomial(5, 5-i) * (Rational(2, 3)**i) * (Rational(1, 3)**(10-i)) * \n",
    "(Rational(1,3)**i) * (Rational(2, 3)**(5-i)), (i, 0, 5))"
   ]
  },
  {
   "cell_type": "code",
   "execution_count": 2,
   "metadata": {},
   "outputs": [
    {
     "data": {
      "text/latex": [
       "$\\displaystyle \\frac{32032}{4782969}$"
      ],
      "text/plain": [
       "32032/4782969"
      ]
     },
     "execution_count": 2,
     "metadata": {},
     "output_type": "execute_result"
    }
   ],
   "source": [
    "(Rational(2, 3)**5) * (Rational(1, 3)**10) * binomial(15, 5)"
   ]
  },
  {
   "attachments": {},
   "cell_type": "markdown",
   "metadata": {},
   "source": [
    "<hr><hr>"
   ]
  },
  {
   "attachments": {},
   "cell_type": "markdown",
   "metadata": {},
   "source": [
    "<br><br>\n",
    "\n",
    "### MA 1401; Problem 74\n",
    "\n",
    "$$\n",
    "\\begin{aligned}\n",
    "& X_1, X_2, ..., X_n \\overset{iid}{\\sim} \\N(\\mu, \\sigma^2),\\\\\n",
    "& \\text{if}\\quad T = a\\sum_{i = 1}^n \\vert X_i -\\bar{X}\\vert, \\\\\n",
    "& \\text{if} \\quad \\E(T) = \\sigma \\implies a = ?\n",
    "\\end{aligned}\n",
    "$$\n",
    "\n",
    "<br><br>\n",
    "\n",
    "### Answer --->"
   ]
  },
  {
   "attachments": {},
   "cell_type": "markdown",
   "metadata": {},
   "source": [
    "$$\n",
    "\\begin{align*}\n",
    "& X_1, X_2, ..., X_n \\overset{iid}{\\sim} N(\\mu, \\sigma^2)\\\\\n",
    "& \\to \\mathcal{E}(\\vert X_i - \\bar{X}\\vert) = ?\\\\\n",
    "& \\text{if} ~ Y_i = \\vert X_i - \\bar{X}\\vert \\implies \\\\\n",
    "& f_{Y_i}(u) = f_{Y_j}(u),~~0 \\leq Y_i \\leq \\infty, \\quad i, j \\in \\{1, 2, ..., n\\},~~~\\text{It can be easily proven.}\\\\\n",
    "& \\implies \\mathcal{E}(Y_i) = \\mathcal{E}(Y_j) \\to \\\\\n",
    "& \\mathcal{P}(Y_i \\leq y) = \\mathcal{P}(\\vert X_i -\\bar{X}\\vert \\leq y) = \\mathcal{P}(-y \\leq X_i - \\bar{X}\\leq y) \\\\\n",
    "& X_i - \\bar{X} = X_i - \\frac{1}{n}\\sum_{j = 1}^n X_j = \\overset{U}{\\overbrace{\\frac{n-1}{n}X_i - \\frac{1}{n}\\sum_{j = 1, j \\ne i}^n X_j}} \\implies \\\\\n",
    "& U = \\text{Linear combination of normal independent variables} \\implies U \\sim N(\\mu_U, \\sigma^2_U) \\\\\n",
    "& \\mathcal{E}(U) = \\mathcal{E}(X_i - \\bar{X}) = \\mu - \\mu = 0, \\quad \\\\\n",
    "& \\sigma^2_U = Var(X) + Var(\\bar{X}) -2Cov(X_i, \\bar{X}) = \\sigma^2 + \\frac{\\sigma^2}{n}-2\\frac{\\sigma^2}{n} = \\frac{n-1}{n}\\sigma^2\\\\\n",
    "& \\implies f_{U}(u) = \\frac{1}{\\sqrt{2\\pi\\frac{n-1}{n}\\sigma^2}} \\exp\\left\\{-\\frac{1}{2\\frac{n-1}{n}\\sigma^2}u^2\\right\\} \\implies\\\\\n",
    "& F_{Y_i}(y)_ = \\mathcal{P}(Y_i \\leq y) = \\mathcal{P}(-y \\leq U \\leq y) = \\int_{-y}^y \\frac{1}{\\sqrt{2\\pi\\frac{n-1}{n}\\sigma^2}} \\exp\\left\\{-\\frac{1}{2\\frac{n-1}{n}\\sigma^2}u^2\\right\\}du \\\\\n",
    "& \\overset{\\text{Even function}}{=} 2\\times \\int_{0}^y \\frac{1}{\\sqrt{2\\pi\\frac{n-1}{n}\\sigma^2}} \\exp\\left\\{-\\frac{1}{2\\frac{n-1}{n}\\sigma^2}u^2\\right\\}du \\\\\n",
    "& \\implies f_{Y_i}(y) = \\frac{\\partial F_{Y_i}(y)}{\\partial y}\\\\\n",
    "& f_{Y_i}(y) \\overset{\\text{Leibniz's method}}{=} 2\\times \\frac{1}{\\sqrt{2\\pi\\frac{n-1}{n}\\sigma^2}} \\exp\\left\\{-\\frac{1}{2\\frac{n-1}{n}\\sigma^2}y^2\\right\\}, \\quad y \\geq 0\\\\\n",
    "& \\mathcal{E}(Y_i) = \\int_0^\\infty y f_{Y_i}(y)dy=\n",
    "\n",
    "\\end{align*}\n",
    "$$"
   ]
  },
  {
   "cell_type": "code",
   "execution_count": 3,
   "metadata": {},
   "outputs": [
    {
     "data": {
      "text/latex": [
       "$\\displaystyle \\begin{cases} - \\frac{\\sqrt{2} \\sqrt{\\frac{\\sigma^{2} \\left(n - 1\\right)}{n}} e^{- \\frac{n y^{2}}{2 \\sigma^{2} \\left(n - 1\\right)}}}{\\sqrt{\\pi}} & \\text{for}\\: \\pi \\sigma^{2} \\left(n - 1\\right) \\neq 0 \\\\\\frac{\\sqrt{2} y^{2}}{2 \\sqrt{\\pi} \\sqrt{\\frac{\\sigma^{2} \\left(n - 1\\right)}{n}}} & \\text{otherwise} \\end{cases}$"
      ],
      "text/plain": [
       "Piecewise((-sqrt(2)*sqrt(sigma**2*(n - 1)/n)*exp(-n*y**2/(2*sigma**2*(n - 1)))/sqrt(pi), Ne(pi*sigma**2*(n - 1), 0)), (sqrt(2)*y**2/(2*sqrt(pi)*sqrt(sigma**2*(n - 1)/n)), True))"
      ]
     },
     "execution_count": 3,
     "metadata": {},
     "output_type": "execute_result"
    }
   ],
   "source": [
    "from sympy import integrate, exp, log, Integral, sqrt, pi\n",
    "from sympy.abc import y, n, sigma\n",
    "ey = 2 * y * (1/sqrt(2*pi*(n-1)/n * sigma**2)) * exp(1/(2*(n-1)/n * sigma**2) * (-y**2))\n",
    "from sympy import simplify\n",
    "res = integrate(ey, y)\n",
    "simplify(res)"
   ]
  },
  {
   "attachments": {},
   "cell_type": "markdown",
   "metadata": {},
   "source": [
    "$$\n",
    "\\begin{align*}\n",
    "& \\implies \\mathcal{E}(Y_i) = 0 - (-\\sigma \\times \\frac{\\sqrt{2\\frac{n-1}{n}}}{\\sqrt{\\pi}}) = \\\\\n",
    "& \\sigma\\sqrt{2} \\times \\frac{\\sqrt{n-1}}{\\sqrt{n\\pi}}\\implies \\\\\n",
    "& \\mathcal{E}\\left(\\sum_{i = 1}^n \\vert X_i - \\bar{X} \\vert\\right) = \\mathcal{E}\\left(\\sum_{i = 1}^n Y_i\\right) =\\\\\n",
    "&n \\times \\mathcal{E}(Y_i) = \\sigma \\times \\frac{\\sqrt{2n(n-1)}}{\\sqrt{\\pi}}\\implies \\\\\n",
    "& a \\times \\sigma \\times \\frac{\\sqrt{2n(n-1)}}{\\sqrt{\\pi}} = \\sigma \\implies \\\\\n",
    "& a = \\sqrt{\\frac{\\pi}{2n(n-1)}}\n",
    "\\end{align*}\n",
    "$$\n",
    "\n",
    "<br>\n",
    "<hr><hr>"
   ]
  }
 ],
 "metadata": {
  "kernelspec": {
   "display_name": "Python 3",
   "language": "python",
   "name": "python3"
  },
  "language_info": {
   "codemirror_mode": {
    "name": "ipython",
    "version": 3
   },
   "file_extension": ".py",
   "mimetype": "text/x-python",
   "name": "python",
   "nbconvert_exporter": "python",
   "pygments_lexer": "ipython3",
   "version": "3.11.1"
  },
  "orig_nbformat": 4,
  "vscode": {
   "interpreter": {
    "hash": "8daae33975c15d277ac0a57969cf22ab22bb1b417b85f8c711213778fd937492"
   }
  }
 },
 "nbformat": 4,
 "nbformat_minor": 2
}
