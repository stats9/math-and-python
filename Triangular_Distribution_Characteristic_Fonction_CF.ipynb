{
 "cells": [
  {
   "cell_type": "code",
   "execution_count": 2,
   "metadata": {},
   "outputs": [
    {
     "ename": "ImportError",
     "evalue": "cannot import name 'abs' from 'sympy' (c:\\Users\\habib\\AppData\\Local\\Programs\\Python\\Python311\\Lib\\site-packages\\sympy\\__init__.py)",
     "output_type": "error",
     "traceback": [
      "\u001b[1;31m---------------------------------------------------------------------------\u001b[0m",
      "\u001b[1;31mImportError\u001b[0m                               Traceback (most recent call last)",
      "Cell \u001b[1;32mIn[2], line 2\u001b[0m\n\u001b[0;32m      1\u001b[0m \u001b[38;5;28;01mfrom\u001b[39;00m \u001b[38;5;21;01msympy\u001b[39;00m\u001b[38;5;21;01m.\u001b[39;00m\u001b[38;5;21;01mstats\u001b[39;00m \u001b[38;5;28;01mimport\u001b[39;00m ContinuousRV, P, E, variance, cdf\n\u001b[1;32m----> 2\u001b[0m \u001b[38;5;28;01mfrom\u001b[39;00m \u001b[38;5;21;01msympy\u001b[39;00m \u001b[38;5;28;01mimport\u001b[39;00m Interval, Symbol, log, exp, sqrt, Rational, \u001b[38;5;28mabs\u001b[39m\n",
      "\u001b[1;31mImportError\u001b[0m: cannot import name 'abs' from 'sympy' (c:\\Users\\habib\\AppData\\Local\\Programs\\Python\\Python311\\Lib\\site-packages\\sympy\\__init__.py)"
     ]
    }
   ],
   "source": [
    "from sympy.stats import ContinuousRV\n",
    "from sympy import Interval, symbols, exp"
   ]
  },
  {
   "cell_type": "code",
   "execution_count": 13,
   "metadata": {},
   "outputs": [
    {
     "data": {
      "text/latex": [
       "$\\displaystyle \\begin{cases} \\begin{cases} 0 & \\text{for}\\: x < -1 \\\\\\min\\left(0, x\\right)^{2} - \\frac{\\min\\left(1, x\\right)^{2}}{2} + \\min\\left(1, x\\right) + \\frac{1}{2} & \\text{otherwise} \\end{cases} & \\text{for}\\: x \\geq -1 \\\\0 & \\text{otherwise} \\end{cases}$"
      ],
      "text/plain": [
       "Piecewise((Piecewise((0, x < -1), (Min(0, x)**2 - Min(1, x)**2/2 + Min(1, x) + 1/2, True)), x >= -1), (0, True))"
      ]
     },
     "execution_count": 13,
     "metadata": {},
     "output_type": "execute_result"
    }
   ],
   "source": [
    "x,t = symbols('x, t')\n",
    "pDf =  1 - abs(x)\n",
    "X = ContinuousRV(x, density = pDf, set = Interval.open(-1, 1))\n",
    "cdf(X)(x)"
   ]
  },
  {
   "cell_type": "code",
   "execution_count": 23,
   "metadata": {},
   "outputs": [
    {
     "data": {
      "text/latex": [
       "$\\displaystyle \\left(1 - \\left|{x}\\right|\\right) e^{i t x}$"
      ],
      "text/plain": [
       "(1 - Abs(x))*exp(I*t*x)"
      ]
     },
     "execution_count": 23,
     "metadata": {},
     "output_type": "execute_result"
    }
   ],
   "source": [
    "temp = exp(I*t*x) * pDf\n",
    "\n",
    "temp"
   ]
  },
  {
   "cell_type": "code",
   "execution_count": 26,
   "metadata": {},
   "outputs": [
    {
     "data": {
      "text/latex": [
       "$\\displaystyle \\begin{cases} - \\frac{- i t - 1}{t^{2}} + \\frac{- i t + 1}{t^{2}} - \\frac{e^{i t}}{t^{2}} - \\frac{e^{- i t}}{t^{2}} & \\text{for}\\: t > -\\infty \\wedge t < \\infty \\wedge t \\neq 0 \\\\1 & \\text{otherwise} \\end{cases}$"
      ],
      "text/plain": [
       "Piecewise((-(-I*t - 1)/t**2 + (-I*t + 1)/t**2 - exp(I*t)/t**2 - exp(-I*t)/t**2, (t > -oo) & (t < oo) & Ne(t, 0)), (1, True))"
      ]
     },
     "execution_count": 26,
     "metadata": {},
     "output_type": "execute_result"
    }
   ],
   "source": [
    "integrate(temp, (x, -1, 1))\n"
   ]
  }
 ],
 "metadata": {
  "kernelspec": {
   "display_name": "Python 3",
   "language": "python",
   "name": "python3"
  },
  "language_info": {
   "codemirror_mode": {
    "name": "ipython",
    "version": 3
   },
   "file_extension": ".py",
   "mimetype": "text/x-python",
   "name": "python",
   "nbconvert_exporter": "python",
   "pygments_lexer": "ipython3",
   "version": "3.11.1"
  }
 },
 "nbformat": 4,
 "nbformat_minor": 2
}
