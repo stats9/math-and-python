{
 "cells": [
  {
   "cell_type": "markdown",
   "metadata": {},
   "source": [
    "$$\n",
    "\\begin{align*}\n",
    "& X \\sim \\text{Binomial}\\left(5, \\frac{1}{3}\\right), ~~ Y \\sim \\text{Binomial}\\left(10, \\frac{2}{3}\\right) \\implies \\\\\n",
    "& \\text{Prob} = \\mathcal{P}(X = Y) = \\sum_{i = 0}^5 \\mathcal{P}(X = i, Y = i) = \\sum_{i = 0}^5 \\mathcal{P}(X = i) \\times \\mathcal{P}(Y = i) =\\\\\n",
    "& \\sum_{k = 0}^5 {10 \\choose k}{5 \\choose k}\\left(\\frac{2}{3}\\right)^k\\left(\\frac{1}{3}\\right)^{10-k}\\left(\\frac{1}{3}\\right)^{k}\\left(\\frac{2}{3}\\right)^{5-k}=\\\\\n",
    "& \\left(\\frac{2}{3}\\right)^5\\left(\\frac{1}{3}\\right)^{10}\\sum_{k = 0}^5 {10 \\choose k}\\times{5 \\choose 5-k}\n",
    "\\end{align*}\n",
    "$$\n",
    "based on this formula <a href=\"https://math.stackexchange.com/questions/502835/prove-that-sum-k-0r-m-choose-k-n-choose-r-k-mn-choose-r\" target=\"_top\"><b>Link</b></a>\n",
    "\n",
    "$$\n",
    "\\text{Prob} = {15 \\choose 5}\\left(\\frac{2}{3}\\right)^5\\left(\\frac{1}{3}\\right)^{10}\n",
    "$$\n",
    "\n",
    "Prove it by python: "
   ]
  },
  {
   "cell_type": "code",
   "execution_count": 22,
   "metadata": {},
   "outputs": [
    {
     "data": {
      "text/latex": [
       "$\\displaystyle \\frac{32032}{4782969}$"
      ],
      "text/plain": [
       "32032/4782969"
      ]
     },
     "execution_count": 22,
     "metadata": {},
     "output_type": "execute_result"
    }
   ],
   "source": [
    "from sympy import summation, symbols, binomial, Rational\n",
    "\n",
    "i = symbols(\"i\")\n",
    "summation(binomial(10, i) * binomial(5, 5-i) * (Rational(2, 3)**i) * (Rational(1, 3)**(10-i)) * \n",
    "(Rational(1,3)**i) * (Rational(2, 3)**(5-i)), (i, 0, 5))\n"
   ]
  },
  {
   "cell_type": "code",
   "execution_count": 23,
   "metadata": {},
   "outputs": [
    {
     "data": {
      "text/latex": [
       "$\\displaystyle \\frac{32032}{4782969}$"
      ],
      "text/plain": [
       "32032/4782969"
      ]
     },
     "execution_count": 23,
     "metadata": {},
     "output_type": "execute_result"
    }
   ],
   "source": [
    "(Rational(2, 3)**5) * (Rational(1, 3)**10) * binomial(15, 5)"
   ]
  }
 ],
 "metadata": {
  "kernelspec": {
   "display_name": "Python 3.10.5 64-bit",
   "language": "python",
   "name": "python3"
  },
  "language_info": {
   "codemirror_mode": {
    "name": "ipython",
    "version": 3
   },
   "file_extension": ".py",
   "mimetype": "text/x-python",
   "name": "python",
   "nbconvert_exporter": "python",
   "pygments_lexer": "ipython3",
   "version": "3.10.5"
  },
  "orig_nbformat": 4,
  "vscode": {
   "interpreter": {
    "hash": "91d35a12012963374df6e6d321e5117f7393251cbe1d1a596b3e369f17a83851"
   }
  }
 },
 "nbformat": 4,
 "nbformat_minor": 2
}
