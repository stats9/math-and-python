{
 "cells": [
  {
   "cell_type": "markdown",
   "metadata": {},
   "source": [
    "$$\n",
    "\\begin{aligned}\n",
    "X \\sim \\mathcal{TR}(a = -1, c = 0, b = 1), \\quad f_X(x) = 1 - \\vert x \\vert , \\quad  -1 < x < 1, \\implies \\\\\n",
    "\\text{CF}(x) = ~? \\\\\n",
    "\\text{CF}: \\text{Characteristic Function}. \n",
    "\\end{aligned}\n",
    "$$"
   ]
  },
  {
   "cell_type": "code",
   "execution_count": null,
   "metadata": {},
   "outputs": [],
   "source": [
    "from sympy.stats import ContinuousRV\n",
    "from sympy import Interval, symbols, exp\n",
    "from sympy import *"
   ]
  },
  {
   "cell_type": "code",
   "execution_count": 6,
   "metadata": {},
   "outputs": [
    {
     "data": {
      "text/latex": [
       "$\\displaystyle \\begin{cases} \\begin{cases} 0 & \\text{for}\\: x < -1 \\\\\\min\\left(0, x\\right)^{2} - \\frac{\\min\\left(1, x\\right)^{2}}{2} + \\min\\left(1, x\\right) + \\frac{1}{2} & \\text{otherwise} \\end{cases} & \\text{for}\\: x \\geq -1 \\\\0 & \\text{otherwise} \\end{cases}$"
      ],
      "text/plain": [
       "Piecewise((Piecewise((0, x < -1), (Min(0, x)**2 - Min(1, x)**2/2 + Min(1, x) + 1/2, True)), x >= -1), (0, True))"
      ]
     },
     "execution_count": 6,
     "metadata": {},
     "output_type": "execute_result"
    }
   ],
   "source": [
    "x,t = symbols('x, t')\n",
    "pDf =  1 - abs(x)\n",
    "X = ContinuousRV(x, density = pDf, set = Interval.open(-1, 1))\n",
    "cdf(X)(x)"
   ]
  },
  {
   "cell_type": "code",
   "execution_count": 7,
   "metadata": {},
   "outputs": [
    {
     "data": {
      "text/latex": [
       "$\\displaystyle \\left(1 - \\left|{x}\\right|\\right) e^{i t x}$"
      ],
      "text/plain": [
       "(1 - Abs(x))*exp(I*t*x)"
      ]
     },
     "execution_count": 7,
     "metadata": {},
     "output_type": "execute_result"
    }
   ],
   "source": [
    "temp = exp(I*t*x) * pDf\n",
    "\n",
    "temp"
   ]
  },
  {
   "cell_type": "code",
   "execution_count": 8,
   "metadata": {},
   "outputs": [
    {
     "data": {
      "text/latex": [
       "$\\displaystyle \\begin{cases} - \\frac{- i t - 1}{t^{2}} + \\frac{- i t + 1}{t^{2}} - \\frac{e^{i t}}{t^{2}} - \\frac{e^{- i t}}{t^{2}} & \\text{for}\\: t > -\\infty \\wedge t < \\infty \\wedge t \\neq 0 \\\\1 & \\text{otherwise} \\end{cases}$"
      ],
      "text/plain": [
       "Piecewise((-(-I*t - 1)/t**2 + (-I*t + 1)/t**2 - exp(I*t)/t**2 - exp(-I*t)/t**2, (t > -oo) & (t < oo) & Ne(t, 0)), (1, True))"
      ]
     },
     "execution_count": 8,
     "metadata": {},
     "output_type": "execute_result"
    }
   ],
   "source": [
    "integrate(temp, (x, -1, 1))\n"
   ]
  }
 ],
 "metadata": {
  "kernelspec": {
   "display_name": "Python 3",
   "language": "python",
   "name": "python3"
  },
  "language_info": {
   "codemirror_mode": {
    "name": "ipython",
    "version": 3
   },
   "file_extension": ".py",
   "mimetype": "text/x-python",
   "name": "python",
   "nbconvert_exporter": "python",
   "pygments_lexer": "ipython3",
   "version": "3.11.1"
  }
 },
 "nbformat": 4,
 "nbformat_minor": 2
}
