{
  "cells": [
    {
      "cell_type": "raw",
      "id": "f3a81b65",
      "metadata": {},
      "source": [
        "---\n",
        "title: UMVUE one sample cut poisson distributin\n",
        "format:\n",
        "  html:\n",
        "    code-fold: true\n",
        "---"
      ]
    },
    {
      "cell_type": "code",
      "execution_count": 2,
      "id": "a945aca9",
      "metadata": {},
      "outputs": [
        {
          "data": {
            "text/latex": [
              "$\\displaystyle \\frac{\\theta e^{\\theta}}{e^{\\theta} - 1}$"
            ],
            "text/plain": [
              "theta*exp(theta)/(exp(theta) - 1)"
            ]
          },
          "execution_count": 2,
          "metadata": {},
          "output_type": "execute_result"
        }
      ],
      "source": [
        "from sympy.stats import DiscreteRV, P, E, variance\n",
        "from sympy import Symbol, factorial, exp, S, simplify, init_printing\n",
        "x = Symbol('x', integer = True, positive = True)\n",
        "t = Symbol('theta', real = True, positive = True)\n",
        "pdf = exp(-t) * t**(x) /(factorial(x) * (1-exp(-t)))\n",
        "D = DiscreteRV(x, pdf, set = S.Naturals)\n",
        "\n",
        "# get expectation of X\n",
        "E(D)\n"
      ]
    },
    {
      "attachments": {},
      "cell_type": "markdown",
      "id": "18af1380",
      "metadata": {},
      "source": [
        "# get variance of X"
      ]
    },
    {
      "cell_type": "code",
      "execution_count": 3,
      "id": "0342efa8",
      "metadata": {},
      "outputs": [
        {
          "data": {
            "text/latex": [
              "$\\displaystyle \\frac{\\theta^{3} \\left(\\frac{e^{\\theta}}{\\theta} - \\frac{1}{\\theta}\\right) e^{2 \\theta}}{\\left(e^{\\theta} - 1\\right)^{3}} - \\frac{2 \\theta^{2} e^{2 \\theta}}{\\left(e^{\\theta} - 1\\right)^{2}} + \\frac{\\theta \\left(\\theta + 1\\right) e^{\\theta}}{e^{\\theta} - 1}$"
            ],
            "text/plain": [
              "theta**3*(exp(theta)/theta - 1/theta)*exp(2*theta)/(exp(theta) - 1)**3 - 2*theta**2*exp(2*theta)/(exp(theta) - 1)**2 + theta*(theta + 1)*exp(theta)/(exp(theta) - 1)"
            ]
          },
          "execution_count": 3,
          "metadata": {},
          "output_type": "execute_result"
        }
      ],
      "source": [
        "variance(D)"
      ]
    },
    {
      "attachments": {},
      "cell_type": "markdown",
      "id": "a3b6c1da",
      "metadata": {},
      "source": [
        "## get probability of P(X >= 1)"
      ]
    },
    {
      "cell_type": "code",
      "execution_count": 4,
      "id": "ba380117",
      "metadata": {},
      "outputs": [
        {
          "data": {
            "text/latex": [
              "$\\displaystyle 1$"
            ],
            "text/plain": [
              "1"
            ]
          },
          "execution_count": 4,
          "metadata": {},
          "output_type": "execute_result"
        }
      ],
      "source": [
        "temp1 = P(D >= 1)\n",
        "simplify(temp1)"
      ]
    }
  ],
  "metadata": {
    "kernelspec": {
      "display_name": "Python 3 (ipykernel)",
      "language": "python",
      "name": "python3"
    },
    "language_info": {
      "codemirror_mode": {
        "name": "ipython",
        "version": 3
      },
      "file_extension": ".py",
      "mimetype": "text/x-python",
      "name": "python",
      "nbconvert_exporter": "python",
      "pygments_lexer": "ipython3",
      "version": "3.11.1"
    }
  },
  "nbformat": 4,
  "nbformat_minor": 5
}
