{
 "cells": [
  {
   "attachments": {},
   "cell_type": "markdown",
   "metadata": {},
   "source": [
    "Twenty-four people came for the diagnosis test.<br>\n",
    "8 of them have diseases.<br>\n",
    "The blood of both people is tested with a sampler.<br>\n",
    "The random variable X represents the pairs where both people have the disease.<br>\n",
    "\n",
    "$$\n",
    "\\mathcal{E}(X) = ?\n",
    "$$\n",
    "\n",
    "<br>"
   ]
  },
  {
   "attachments": {},
   "cell_type": "markdown",
   "metadata": {},
   "source": [
    "#### Answer --->\n",
    "\n",
    "$$\n",
    "\\def\\p{\\mathcal{P}}\n",
    "\\def\\e{\\mathcal{E}}\n",
    "\\begin{aligned}\n",
    "& S_X = \\{0, 1, 2, 3, 4\\}, \\\\\n",
    "& \\p(X = x) = \\frac{{8 \\choose 2x}\\times{16 \\choose 8 - 2x}\\times (2x)! \\times 9! \\times 2^8}{24!} \\implies \\\\\n",
    "& \\e{X} = \n",
    "\\end{aligned}\n",
    "$$"
   ]
  },
  {
   "cell_type": "code",
   "execution_count": 53,
   "metadata": {},
   "outputs": [
    {
     "data": {
      "text/plain": [
       "105"
      ]
     },
     "execution_count": 53,
     "metadata": {},
     "output_type": "execute_result"
    }
   ],
   "source": [
    "def get_partitionSet_2_member(n): ## define a function for get \n",
    "    if n > 1:\n",
    "        result = (n-1) * get_partitionSet_2_member(n-2)\n",
    "    else:\n",
    "        result = 1\n",
    "    return result\n",
    "get_partitionSet_2_member(8)"
   ]
  },
  {
   "cell_type": "code",
   "execution_count": 54,
   "metadata": {},
   "outputs": [
    {
     "data": {
      "text/latex": [
       "$\\displaystyle \\frac{1280}{7429}$"
      ],
      "text/plain": [
       "1280/7429"
      ]
     },
     "execution_count": 54,
     "metadata": {},
     "output_type": "execute_result"
    }
   ],
   "source": [
    "\n",
    "\n",
    "from sympy import Sum, symbols, Indexed, lambdify, factorial, binomial, Rational\n",
    "import numpy as np\n",
    "p0 = binomial(16, 8) * 2**8 * factorial(8) * get_partitionSet_2_member(8)  * 2**4 * factorial(12) /factorial(24)\n",
    "\n",
    "p0\n",
    "#x, i = symbols(\"x i\")\n",
    "#s = Sum(binomial(8, 2*x) * binomial(16, 8 - 2*x)  * factorial(9) * 2**(x + ) * factorial((8-2*x)/2)/ factorial(24),(x,0,4))\n",
    "#s.simplify()"
   ]
  },
  {
   "cell_type": "code",
   "execution_count": 68,
   "metadata": {},
   "outputs": [
    {
     "data": {
      "text/latex": [
       "$\\displaystyle \\frac{1068253}{8481098545920}$"
      ],
      "text/plain": [
       "1068253/8481098545920"
      ]
     },
     "execution_count": 68,
     "metadata": {},
     "output_type": "execute_result"
    }
   ],
   "source": [
    "s.doit()"
   ]
  },
  {
   "cell_type": "code",
   "execution_count": 16,
   "metadata": {},
   "outputs": [
    {
     "data": {
      "text/plain": [
       "4.4797415533719205"
      ]
     },
     "execution_count": 16,
     "metadata": {},
     "output_type": "execute_result"
    }
   ],
   "source": [
    "33280/7429"
   ]
  },
  {
   "cell_type": "code",
   "execution_count": 69,
   "metadata": {},
   "outputs": [
    {
     "data": {
      "text/plain": [
       "7939222.773930894"
      ]
     },
     "execution_count": 69,
     "metadata": {},
     "output_type": "execute_result"
    }
   ],
   "source": [
    "8481098545920/1068253"
   ]
  },
  {
   "cell_type": "code",
   "execution_count": 11,
   "metadata": {},
   "outputs": [
    {
     "ename": "SyntaxError",
     "evalue": "invalid syntax (3989950636.py, line 6)",
     "output_type": "error",
     "traceback": [
      "\u001b[1;36m  Cell \u001b[1;32mIn[11], line 6\u001b[1;36m\u001b[0m\n\u001b[1;33m    xx =\u001b[0m\n\u001b[1;37m         ^\u001b[0m\n\u001b[1;31mSyntaxError\u001b[0m\u001b[1;31m:\u001b[0m invalid syntax\n"
     ]
    }
   ],
   "source": [
    "from sympy import Sum, symbols, Indexed, lambdify, factorial, binomial, Rational\n",
    "import numpy as np\n",
    "\n",
    "x, i = symbols(\"x i\")\n",
    "s = Sum(Indexed('x',i),(i,0,3))\n",
    "xx = \n",
    "f = lambdify(x, s)\n",
    "b = np.array([1, 2, 3, 4])\n",
    "f(b)"
   ]
  },
  {
   "cell_type": "code",
   "execution_count": 30,
   "metadata": {},
   "outputs": [
    {
     "data": {
      "text/latex": [
       "$\\displaystyle 276$"
      ],
      "text/plain": [
       "276"
      ]
     },
     "execution_count": 30,
     "metadata": {},
     "output_type": "execute_result"
    }
   ],
   "source": [
    "binomial(24, 2)"
   ]
  },
  {
   "cell_type": "code",
   "execution_count": 1,
   "metadata": {},
   "outputs": [
    {
     "data": {
      "text/plain": [
       "7.769559526188951e-08"
      ]
     },
     "execution_count": 1,
     "metadata": {},
     "output_type": "execute_result"
    }
   ],
   "source": [
    "import numpy as np\n",
    "import pandas as pd\n",
    "from math import comb\n",
    "from math import factorial\n",
    "(comb(16, 8) * factorial(8) * factorial(9) * 2**8)/factorial(24)\n"
   ]
  },
  {
   "cell_type": "code",
   "execution_count": 2,
   "metadata": {},
   "outputs": [
    {
     "ename": "NameError",
     "evalue": "name 'mylist' is not defined",
     "output_type": "error",
     "traceback": [
      "\u001b[1;31m---------------------------------------------------------------------------\u001b[0m",
      "\u001b[1;31mNameError\u001b[0m                                 Traceback (most recent call last)",
      "Cell \u001b[1;32mIn[2], line 5\u001b[0m\n\u001b[0;32m      2\u001b[0m \u001b[39mfrom\u001b[39;00m \u001b[39mmath\u001b[39;00m \u001b[39mimport\u001b[39;00m comb\n\u001b[0;32m      4\u001b[0m \u001b[39m# Get all combinations of mylist with length 2\u001b[39;00m\n\u001b[1;32m----> 5\u001b[0m comb2 \u001b[39m=\u001b[39m combinations(mylist, \u001b[39m2\u001b[39m)\n\u001b[0;32m      6\u001b[0m \u001b[39mprint\u001b[39m(\u001b[39m\"\"\"\u001b[39m\n\u001b[0;32m      7\u001b[0m \u001b[39mlen(comb2) = \u001b[39m\u001b[39m{}\u001b[39;00m\u001b[39m, \u001b[39m\n\u001b[0;32m      8\u001b[0m \u001b[39mcomb(24, 2) = \u001b[39m\u001b[39m{}\u001b[39;00m\u001b[39m.\u001b[39m\n\u001b[0;32m      9\u001b[0m \u001b[39m\"\"\"\u001b[39m\u001b[39m.\u001b[39mformat(\u001b[39mlen\u001b[39m(\u001b[39mlist\u001b[39m(comb2)), comb(\u001b[39m24\u001b[39m, \u001b[39m2\u001b[39m)))\n",
      "\u001b[1;31mNameError\u001b[0m: name 'mylist' is not defined"
     ]
    }
   ],
   "source": [
    "from itertools import combinations\n",
    "from math import comb\n",
    "  \n",
    "# Get all combinations of mylist with length 2\n",
    "comb2 = combinations(mylist, 2)\n",
    "print(\"\"\"\n",
    "len(comb2) = {}, \n",
    "comb(24, 2) = {}.\n",
    "\"\"\".format(len(list(comb2)), comb(24, 2)))"
   ]
  },
  {
   "cell_type": "code",
   "execution_count": 95,
   "metadata": {},
   "outputs": [],
   "source": [
    "mylist = pd.Series(np.repeat([0, 1], (4, 6))).to_list()\n",
    "from itertools import permutations\n",
    "perm = permutations(mylist, 10)"
   ]
  },
  {
   "cell_type": "code",
   "execution_count": 96,
   "metadata": {},
   "outputs": [],
   "source": [
    "def get_pair(x):\n",
    "    count = 0\n",
    "    temp1 = 0\n",
    "    while count < 5:\n",
    "        temp2 = x[count] + x[count + 1]\n",
    "        if temp2 == 0:\n",
    "            temp1 += 1\n",
    "        count += 2\n",
    "    return temp1\n",
    "result = pd.Series(map(get_pair, perm))"
   ]
  },
  {
   "cell_type": "code",
   "execution_count": 103,
   "metadata": {},
   "outputs": [
    {
     "data": {
      "text/plain": [
       "0    2229120\n",
       "1    1347840\n",
       "2      51840\n",
       "dtype: int64"
      ]
     },
     "execution_count": 103,
     "metadata": {},
     "output_type": "execute_result"
    }
   ],
   "source": [
    "temp4 = result.value_counts()\n",
    "temp4"
   ]
  },
  {
   "cell_type": "code",
   "execution_count": null,
   "metadata": {},
   "outputs": [],
   "source": []
  },
  {
   "cell_type": "code",
   "execution_count": 117,
   "metadata": {},
   "outputs": [],
   "source": [
    "n0 = get_partitionSet_2_member(24)\n",
    "n4 = get_partitionSet_2_member(16)\n",
    "n3 = get_partitionSet_2_member(18)\n",
    "n2 = get_partitionSet_2_member(20)\n",
    "n1 = get_partitionSet_2_member(22)"
   ]
  },
  {
   "cell_type": "code",
   "execution_count": 136,
   "metadata": {},
   "outputs": [],
   "source": [
    "iter_4 = n4 * get_partitionSet_2_member(8)\n",
    "iter_3 = get_partitionSet_2_member(6) * (n3 - n4)\n",
    "iter_2 = get_partitionSet_2_member(4) * (n2 - n3 - n4)\n",
    "iter_1 = (n1 - n2 - n3 - n4)\n",
    "iter_zero = n0 - iter_4 - iter_3 - iter_2 - iter_1\n"
   ]
  },
  {
   "cell_type": "code",
   "execution_count": 137,
   "metadata": {},
   "outputs": [],
   "source": [
    "px0 = iter_zero/n0\n",
    "px1 = iter_1/n0\n",
    "px2 = iter_2/n0\n",
    "px3 = iter_3/n0\n",
    "px4 = iter_4/n0\n"
   ]
  },
  {
   "cell_type": "code",
   "execution_count": 140,
   "metadata": {},
   "outputs": [
    {
     "data": {
      "text/plain": [
       "array([9.50631053e-01, 4.12924895e-02, 5.86504625e-03, 1.53837279e-03,\n",
       "       6.73038094e-04])"
      ]
     },
     "execution_count": 140,
     "metadata": {},
     "output_type": "execute_result"
    }
   ],
   "source": [
    "prob_res = np.array([px0, px1, px2, px3, px4])\n",
    "prob_res"
   ]
  },
  {
   "cell_type": "code",
   "execution_count": 134,
   "metadata": {},
   "outputs": [
    {
     "data": {
      "text/plain": [
       "0.0006730380939561179"
      ]
     },
     "execution_count": 134,
     "metadata": {},
     "output_type": "execute_result"
    }
   ],
   "source": [
    "n0 = get_partitionSet_2_member(10)\n",
    "n2 = get_partitionSet_2_member(6)\n",
    "n1 = get_partitionSet_2_member(8)\n",
    "iter_2 = get_partitionSet_2_member(4) * n2\n",
    "\n"
   ]
  },
  {
   "cell_type": "code",
   "execution_count": 100,
   "metadata": {},
   "outputs": [],
   "source": [
    "x = np.array([0, 1, 2])\n",
    "px = temp5/tot\n",
    "Ex = (px * x).sum()"
   ]
  },
  {
   "cell_type": "code",
   "execution_count": 106,
   "metadata": {},
   "outputs": [
    {
     "data": {
      "text/plain": [
       "array([43/70, 13/35, 1/70], dtype=object)"
      ]
     },
     "execution_count": 106,
     "metadata": {},
     "output_type": "execute_result"
    }
   ],
   "source": [
    "px"
   ]
  }
 ],
 "metadata": {
  "kernelspec": {
   "display_name": "Python 3",
   "language": "python",
   "name": "python3"
  },
  "language_info": {
   "codemirror_mode": {
    "name": "ipython",
    "version": 3
   },
   "file_extension": ".py",
   "mimetype": "text/x-python",
   "name": "python",
   "nbconvert_exporter": "python",
   "pygments_lexer": "ipython3",
   "version": "3.11.1"
  },
  "orig_nbformat": 4,
  "vscode": {
   "interpreter": {
    "hash": "8daae33975c15d277ac0a57969cf22ab22bb1b417b85f8c711213778fd937492"
   }
  }
 },
 "nbformat": 4,
 "nbformat_minor": 2
}
