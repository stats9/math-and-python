{
 "cells": [
  {
   "cell_type": "markdown",
   "metadata": {},
   "source": [
    "#### How using masking for split data into train and test (in python programming)"
   ]
  },
  {
   "cell_type": "code",
   "execution_count": 15,
   "metadata": {},
   "outputs": [],
   "source": [
    "import numpy as np\n",
    "import pandas as pd\n",
    "from scipy import stats\n"
   ]
  },
  {
   "cell_type": "code",
   "execution_count": 12,
   "metadata": {},
   "outputs": [
    {
     "data": {
      "text/plain": [
       "(2959, 4)"
      ]
     },
     "execution_count": 12,
     "metadata": {},
     "output_type": "execute_result"
    }
   ],
   "source": [
    "## create psudo data: \n",
    "mydata = stats.norm.rvs(size = 4 * 2959, loc = 2, scale = 1, random_state = 1234).reshape((2959, 4))\n",
    "mydata.shape"
   ]
  },
  {
   "cell_type": "code",
   "execution_count": 13,
   "metadata": {},
   "outputs": [],
   "source": [
    "test_size = 592 \n",
    "indices = np.random.permutation(mydata.shape[0]) \n"
   ]
  },
  {
   "cell_type": "code",
   "execution_count": 14,
   "metadata": {},
   "outputs": [],
   "source": [
    "test_indices = indices[:test_size]\n",
    "train_indices = indices[:-test_size]\n",
    "\n",
    "mytest_data = mydata[test_indices, :]\n",
    "mytrain_data2 = mydata[train_indices, :]\n"
   ]
  },
  {
   "cell_type": "code",
   "execution_count": 9,
   "metadata": {},
   "outputs": [
    {
     "name": "stdout",
     "output_type": "stream",
     "text": [
      "\n",
      "      dimension of test data: (592, 4), \n",
      "\n",
      "      dimension of train data: (2367, 4)\n",
      "      \n"
     ]
    }
   ],
   "source": [
    "print(\"\"\"\n",
    "      dimension of test data: {}, \\n\n",
    "      dimension of train data: {}\n",
    "      \"\"\".format(mytest_data.shape, mytrain_data2.shape))\n"
   ]
  },
  {
   "cell_type": "markdown",
   "metadata": {},
   "source": [
    "#### If our array is three-dimensional;"
   ]
  },
  {
   "cell_type": "code",
   "execution_count": 16,
   "metadata": {},
   "outputs": [
    {
     "data": {
      "text/plain": [
       "(2959, 4, 5)"
      ]
     },
     "execution_count": 16,
     "metadata": {},
     "output_type": "execute_result"
    }
   ],
   "source": [
    "## create psudo data: \n",
    "mydata = stats.norm.rvs(size = 4 * 5 * 2959, loc = 2, scale = 1, random_state = 1234).reshape((2959, 4, 5))\n",
    "mydata.shape"
   ]
  },
  {
   "cell_type": "code",
   "execution_count": 17,
   "metadata": {},
   "outputs": [],
   "source": [
    "test_size = 592 \n",
    "indices = np.random.permutation(mydata.shape[0]) "
   ]
  },
  {
   "cell_type": "code",
   "execution_count": 24,
   "metadata": {},
   "outputs": [],
   "source": [
    "from sympy.abc import y\n",
    "test_indices = indices[:test_size]\n",
    "train_indices = indices[:-test_size]\n",
    "\n",
    "y_test = mydata[test_indices, 2:4, :]\n",
    "y_train = mydata[train_indices, 2:4, :] \n",
    "x_test = mydata[test_indices, 0:2, :]\n",
    "x_train = mydata[train_indices, 0:2, :] "
   ]
  },
  {
   "cell_type": "code",
   "execution_count": 25,
   "metadata": {},
   "outputs": [
    {
     "name": "stdout",
     "output_type": "stream",
     "text": [
      "\n",
      "      dimension of ytest: (592, 2, 5), \n",
      "\n",
      "      dimension of ytrain: (2367, 2, 5), \n",
      "\n",
      "      dimension of xtest: (592, 2, 5), \n",
      "\n",
      "      dimension of xtrain: (2367, 2, 5) \n",
      "\n",
      "      \n"
     ]
    }
   ],
   "source": [
    "print(\"\"\"\n",
    "      dimension of ytest: {}, \\n\n",
    "      dimension of ytrain: {}, \\n\n",
    "      dimension of xtest: {}, \\n\n",
    "      dimension of xtrain: {} \\n\n",
    "      \"\"\".format(y_test.shape, y_train.shape, x_test.shape, x_train.shape))"
   ]
  },
  {
   "cell_type": "markdown",
   "metadata": {},
   "source": [
    "> note\n",
    ">> Here it is assumed that matrices with 1 and 2 belong to explanatory variables and matrices 3 and 4 belong to predictor variables"
   ]
  }
 ],
 "metadata": {
  "kernelspec": {
   "display_name": "Python 3",
   "language": "python",
   "name": "python3"
  },
  "language_info": {
   "codemirror_mode": {
    "name": "ipython",
    "version": 3
   },
   "file_extension": ".py",
   "mimetype": "text/x-python",
   "name": "python",
   "nbconvert_exporter": "python",
   "pygments_lexer": "ipython3",
   "version": "3.11.1"
  }
 },
 "nbformat": 4,
 "nbformat_minor": 2
}
