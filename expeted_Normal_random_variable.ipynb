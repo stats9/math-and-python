{
 "cells": [
  {
   "cell_type": "markdown",
   "metadata": {},
   "source": [
    "$$\n",
    "\\begin{align*}\n",
    "& X_1, X_2, ..., X_n \\overset{iid}{\\sim} N(\\mu, \\sigma^2)\\\\\n",
    "& \\to \\mathcal{E}(\\vert X_i - \\bar{X}\\vert) = ?\\\\\n",
    "& \\text{if} ~ Y_i = \\vert X_i - \\bar{X}\\vert \\implies \\\\\n",
    "& f_{Y_i}(u) = f_{Y_j}(u),~~0 \\leq Y_i \\leq \\infty, \\quad i, j \\in \\{1, 2, ..., n\\},~~~\\text{It can be easily proven.}\\\\\n",
    "& \\implies \\mathcal{E}(Y_i) = \\mathcal{E}(Y_j) \\to \\\\\n",
    "& \\mathcal{P}(Y_i \\leq y) = \\mathcal{P}(\\vert X_i -\\bar{X}\\vert \\leq y) = \\mathcal{P}(-y \\leq X_i - \\bar{X}\\leq y) \\\\\n",
    "& X_i - \\bar{X} = X_i - \\frac{1}{n}\\sum_{j = 1}^n X_j = \\overset{U}{\\overbrace{\\frac{n-1}{n}X_i - \\frac{1}{n}\\sum_{j = 1, j \\ne i}^n X_j}} \\implies \\\\\n",
    "& U = \\text{Linear combination of normal independent variables} \\implies U \\sim N(\\mu_U, \\sigma^2_U) \\\\\n",
    "& \\mathcal{E}(U) = \\mathcal{E}(X_i - \\bar{X}) = \\mu - \\mu = 0, \\quad \\\\\n",
    "& \\sigma^2_U = Var(X) + Var(\\bar{X}) -2Cov(X_i, \\bar{X}) = \\sigma^2 + \\frac{\\sigma^2}{n}-2\\frac{\\sigma^2}{n} = \\frac{n-1}{n}\\sigma^2\\\\\n",
    "& \\implies f_{U}(u) = \\frac{1}{\\sqrt{2\\pi\\frac{n-1}{n}\\sigma^2}} \\exp\\left\\{-\\frac{1}{2\\frac{n-1}{n}\\sigma^2}u^2\\right\\} \\implies\\\\\n",
    "& F_{Y_i}(y)_ = \\mathcal{P}(Y_i \\leq y) = \\mathcal{P}(-y \\leq U \\leq y) = \\int_{-y}^y \\frac{1}{\\sqrt{2\\pi\\frac{n-1}{n}\\sigma^2}} \\exp\\left\\{-\\frac{1}{2\\frac{n-1}{n}\\sigma^2}u^2\\right\\}du \\\\\n",
    "& \\overset{\\text{Even function}}{=} 2\\times \\int_{0}^y \\frac{1}{\\sqrt{2\\pi\\frac{n-1}{n}\\sigma^2}} \\exp\\left\\{-\\frac{1}{2\\frac{n-1}{n}\\sigma^2}u^2\\right\\}du \\\\\n",
    "& \\implies f_{Y_i}(y) = \\frac{\\partial F_{Y_i}(y)}{\\partial y}\\\\\n",
    "& f_{Y_i}(y) \\overset{\\text{Leibniz's method}}{=} 2\\times \\frac{1}{\\sqrt{2\\pi\\frac{n-1}{n}\\sigma^2}} \\exp\\left\\{-\\frac{1}{2\\frac{n-1}{n}\\sigma^2}y^2\\right\\}, \\quad y \\geq 0\\\\\n",
    "& \\mathcal{E}(Y_i) = \\int_0^\\infty y f_{Y_i}(y)dy=\n",
    "\n",
    "\\end{align*}\n",
    "$$"
   ]
  },
  {
   "cell_type": "code",
   "execution_count": 32,
   "metadata": {},
   "outputs": [],
   "source": [
    "from sympy import integrate, exp, log, Integral, sqrt, pi\n",
    "\n",
    "from sympy.abc import y, n, sigma"
   ]
  },
  {
   "cell_type": "code",
   "execution_count": 33,
   "metadata": {},
   "outputs": [],
   "source": [
    "ey = 2 * y * (1/sqrt(2*pi*(n-1)/n * sigma**2)) * exp(1/(2*(n-1)/n * sigma**2) * (-y**2))"
   ]
  },
  {
   "cell_type": "code",
   "execution_count": 34,
   "metadata": {},
   "outputs": [
    {
     "data": {
      "text/latex": [
       "$\\displaystyle \\begin{cases} - \\frac{\\sqrt{2} \\sqrt{\\frac{\\sigma^{2} \\left(n - 1\\right)}{n}} e^{- \\frac{n y^{2}}{2 \\sigma^{2} \\left(n - 1\\right)}}}{\\sqrt{\\pi}} & \\text{for}\\: \\pi \\sigma^{2} \\left(n - 1\\right) \\neq 0 \\\\\\frac{\\sqrt{2} y^{2}}{2 \\sqrt{\\pi} \\sqrt{\\frac{\\sigma^{2} \\left(n - 1\\right)}{n}}} & \\text{otherwise} \\end{cases}$"
      ],
      "text/plain": [
       "Piecewise((-sqrt(2)*sqrt(sigma**2*(n - 1)/n)*exp(-n*y**2/(2*sigma**2*(n - 1)))/sqrt(pi), Ne(pi*sigma**2*(n - 1), 0)), (sqrt(2)*y**2/(2*sqrt(pi)*sqrt(sigma**2*(n - 1)/n)), True))"
      ]
     },
     "execution_count": 34,
     "metadata": {},
     "output_type": "execute_result"
    }
   ],
   "source": [
    "from sympy import simplify\n",
    "\n",
    "\n",
    "res = integrate(ey, y)\n",
    "simplify(res)"
   ]
  },
  {
   "cell_type": "markdown",
   "metadata": {},
   "source": [
    "$$\n",
    "\\begin{align*}\n",
    "& \\implies \\mathcal{E}(Y_i) = 0 - (-\\sigma \\times \\frac{\\sqrt{2\\frac{n-1}{n}}}{\\sqrt{\\pi}}) = \\\\\n",
    "& \\sigma\\sqrt{2} \\times \\frac{\\sqrt{n-1}}{\\sqrt{n\\pi}}\\implies \\\\\n",
    "& \\mathcal{E}\\left(\\sum_{i = 1}^n \\vert X_i - \\bar{X} \\vert\\right) = \\mathcal{E}\\left(\\sum_{i = 1}^n Y_i\\right) =\\\\\n",
    "&n \\times \\mathcal{E}(Y_i) = \\sigma \\times \\frac{\\sqrt{2n(n-1)}}{\\sqrt{\\pi}}\\implies \\\\\n",
    "& a \\times \\sigma \\times \\frac{\\sqrt{2n(n-1)}}{\\sqrt{\\pi}} = \\sigma \\implies \\\\\n",
    "& a = \\sqrt{\\frac{\\pi}{2n(n-1)}}\n",
    "\\end{align*}\n",
    "$$"
   ]
  }
 ],
 "metadata": {
  "kernelspec": {
   "display_name": "Python 3.10.5 64-bit",
   "language": "python",
   "name": "python3"
  },
  "language_info": {
   "codemirror_mode": {
    "name": "ipython",
    "version": 3
   },
   "file_extension": ".py",
   "mimetype": "text/x-python",
   "name": "python",
   "nbconvert_exporter": "python",
   "pygments_lexer": "ipython3",
   "version": "3.10.5"
  },
  "orig_nbformat": 4,
  "vscode": {
   "interpreter": {
    "hash": "91d35a12012963374df6e6d321e5117f7393251cbe1d1a596b3e369f17a83851"
   }
  }
 },
 "nbformat": 4,
 "nbformat_minor": 2
}
