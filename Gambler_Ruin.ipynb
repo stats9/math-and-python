{
 "cells": [
  {
   "attachments": {},
   "cell_type": "markdown",
   "metadata": {},
   "source": [
    "The gambler has $5, he (she) has a strange decision, he (she) wants to play to collect $100 or lose his $5. In each round of the game, if he (she) win, you will lose 1 dollar and if he (she) lose, he (she) will lose 1 dollar. The chance of this person winning in each round of the game is four out of five. What is the probability that he will get his $100?"
   ]
  },
  {
   "attachments": {},
   "cell_type": "markdown",
   "metadata": {},
   "source": [
    "$$\n",
    "\\begin{align*}\n",
    "& \\mathcal{p} = \\text{Probabiltiy for Win in each round}, \\\\\n",
    "& \\mathcal{q} = 1 - \\mathcal{p},\\\\\n",
    "& n_1 = \\text{The starting amount that the gambler has},\\\\\n",
    "& n_2 = \\text{The amount he(she) wants to win}, \\\\\n",
    "& m = n_2 - n_1,\\\\\n",
    "& \\mathbb{pwin} = \\text{The probability of this person winning (getting the desired amount)},\\\\\n",
    "& \\mathbb{pwin} = \\frac{1 - \\left(\\frac{q}{p}\\right)^{n_1}}{1 - \\left(\\frac{q}{p}\\right)^{n_1 + m}}.\n",
    "\\end{align*}\n",
    "$$"
   ]
  },
  {
   "attachments": {},
   "cell_type": "markdown",
   "metadata": {},
   "source": [
    "for more details you can see this **[link](https://en.wikipedia.org/wiki/Gambler%27s_ruin)**."
   ]
  },
  {
   "attachments": {},
   "cell_type": "markdown",
   "metadata": {},
   "source": [
    "# **python copilot**\n",
    "<br><br>\n",
    "#### Simulate Result"
   ]
  },
  {
   "cell_type": "code",
   "execution_count": 65,
   "metadata": {},
   "outputs": [],
   "source": [
    "import numpy as np\n",
    "import pandas as pd\n",
    "def get_prob_gamb(n = 100, cond = (0, 100), Prob = (1/5, 4/5)):\n",
    "    counter = np.arange(0, n)\n",
    "    for i in counter:\n",
    "        init = 5\n",
    "        while not(init in cond):\n",
    "            temp = np.random.choice((-1, 1), size = 1, p = [1/5, 4/5])[0]\n",
    "            init += temp\n",
    "        myresult.append(init)\n",
    "    Res = np.array(list(map(lambda x: 1 if x == 100 else 0, list(myresult)))).mean()\n",
    "    return Res\n",
    "N = [100, 500, 1000, 5000, 10000, 20000, 50000, 100000]\n",
    "def get_prob_gamb2(x): \n",
    "    return get_prob_gamb(n = x)\n",
    "\n"
   ]
  },
  {
   "cell_type": "code",
   "execution_count": 66,
   "metadata": {},
   "outputs": [],
   "source": [
    "final_result = list(map(get_prob_gamb2, N))"
   ]
  },
  {
   "attachments": {},
   "cell_type": "markdown",
   "metadata": {},
   "source": [
    "#### get theory answer"
   ]
  },
  {
   "cell_type": "code",
   "execution_count": 62,
   "metadata": {},
   "outputs": [
    {
     "data": {
      "text/plain": [
       "0.9990234375"
      ]
     },
     "execution_count": 62,
     "metadata": {},
     "output_type": "execute_result"
    }
   ],
   "source": [
    "p = 4/5\n",
    "q = 1 - p\n",
    "n1 = 5\n",
    "n2 = 95\n",
    "a1 = (q/p)**n1\n",
    "a2 = (q/p)**(n1 + n2)\n",
    "ress = (1 - a1)/(1 - a2)\n",
    "ress"
   ]
  },
  {
   "attachments": {},
   "cell_type": "markdown",
   "metadata": {},
   "source": [
    "#### show result"
   ]
  },
  {
   "cell_type": "code",
   "execution_count": 70,
   "metadata": {},
   "outputs": [
    {
     "data": {
      "text/html": [
       "<div>\n",
       "<style scoped>\n",
       "    .dataframe tbody tr th:only-of-type {\n",
       "        vertical-align: middle;\n",
       "    }\n",
       "\n",
       "    .dataframe tbody tr th {\n",
       "        vertical-align: top;\n",
       "    }\n",
       "\n",
       "    .dataframe thead th {\n",
       "        text-align: right;\n",
       "    }\n",
       "</style>\n",
       "<table border=\"1\" class=\"dataframe\">\n",
       "  <thead>\n",
       "    <tr style=\"text-align: right;\">\n",
       "      <th></th>\n",
       "      <th>Simulation</th>\n",
       "      <th>Theory</th>\n",
       "    </tr>\n",
       "  </thead>\n",
       "  <tbody>\n",
       "    <tr>\n",
       "      <th>0</th>\n",
       "      <td>0.999208</td>\n",
       "      <td>0.999023</td>\n",
       "    </tr>\n",
       "    <tr>\n",
       "      <th>1</th>\n",
       "      <td>0.999245</td>\n",
       "      <td>0.999023</td>\n",
       "    </tr>\n",
       "    <tr>\n",
       "      <th>2</th>\n",
       "      <td>0.999310</td>\n",
       "      <td>0.999023</td>\n",
       "    </tr>\n",
       "    <tr>\n",
       "      <th>3</th>\n",
       "      <td>0.998916</td>\n",
       "      <td>0.999023</td>\n",
       "    </tr>\n",
       "    <tr>\n",
       "      <th>4</th>\n",
       "      <td>0.999135</td>\n",
       "      <td>0.999023</td>\n",
       "    </tr>\n",
       "    <tr>\n",
       "      <th>5</th>\n",
       "      <td>0.998884</td>\n",
       "      <td>0.999023</td>\n",
       "    </tr>\n",
       "    <tr>\n",
       "      <th>6</th>\n",
       "      <td>0.998975</td>\n",
       "      <td>0.999023</td>\n",
       "    </tr>\n",
       "    <tr>\n",
       "      <th>7</th>\n",
       "      <td>0.998978</td>\n",
       "      <td>0.999023</td>\n",
       "    </tr>\n",
       "  </tbody>\n",
       "</table>\n",
       "</div>"
      ],
      "text/plain": [
       "   Simulation    Theory\n",
       "0    0.999208  0.999023\n",
       "1    0.999245  0.999023\n",
       "2    0.999310  0.999023\n",
       "3    0.998916  0.999023\n",
       "4    0.999135  0.999023\n",
       "5    0.998884  0.999023\n",
       "6    0.998975  0.999023\n",
       "7    0.998978  0.999023"
      ]
     },
     "execution_count": 70,
     "metadata": {},
     "output_type": "execute_result"
    }
   ],
   "source": [
    "Res = dict(Simulation = final_result, Theory = np.repeat(ress, 8))\n",
    "Ress = pd.DataFrame(Res)\n",
    "Ress"
   ]
  }
 ],
 "metadata": {
  "kernelspec": {
   "display_name": "Python 3",
   "language": "python",
   "name": "python3"
  },
  "language_info": {
   "codemirror_mode": {
    "name": "ipython",
    "version": 3
   },
   "file_extension": ".py",
   "mimetype": "text/x-python",
   "name": "python",
   "nbconvert_exporter": "python",
   "pygments_lexer": "ipython3",
   "version": "3.11.1"
  },
  "orig_nbformat": 4
 },
 "nbformat": 4,
 "nbformat_minor": 2
}
