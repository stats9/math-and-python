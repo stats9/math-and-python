{
 "cells": [
  {
   "attachments": {},
   "cell_type": "markdown",
   "metadata": {},
   "source": [
    "$$\n",
    "\\begin{align*}\n",
    "& \\text{if} ~~ X \\sim \\mathcal{N}(1, \\theta) \\quad \\text{Assumptions}: ~~ \\text{Variance}(X) = \\theta, ~~ \\mathcal{E}(X) = 1 \\implies \\\\\n",
    "& \\text{Variance}(X^2) = ?\n",
    "\\end{align*}\n",
    "$$"
   ]
  },
  {
   "cell_type": "code",
   "execution_count": 2,
   "metadata": {},
   "outputs": [],
   "source": [
    "from sympy.stats import Normal, density, E, std, variance\n",
    "from sympy import Symbol, simplify, sqrt, integrate \n",
    "import numpy as np\n",
    "\n",
    "t = Symbol(\"theta\", positive=True)\n",
    "y = Symbol(\"y\")\n",
    "X = Normal(\"x\", 1, sqrt(t))"
   ]
  },
  {
   "cell_type": "code",
   "execution_count": 3,
   "metadata": {},
   "outputs": [
    {
     "data": {
      "text/latex": [
       "$\\displaystyle \\frac{\\sqrt{2} e^{- \\frac{\\left(y - 1\\right)^{2}}{2 \\theta}}}{2 \\sqrt{\\pi} \\sqrt{\\theta}}$"
      ],
      "text/plain": [
       "sqrt(2)*exp(-(y - 1)**2/(2*theta))/(2*sqrt(pi)*sqrt(theta))"
      ]
     },
     "execution_count": 3,
     "metadata": {},
     "output_type": "execute_result"
    }
   ],
   "source": [
    "density(X)(y)"
   ]
  },
  {
   "cell_type": "code",
   "execution_count": 4,
   "metadata": {},
   "outputs": [
    {
     "data": {
      "text/latex": [
       "$\\displaystyle \\theta$"
      ],
      "text/plain": [
       "theta"
      ]
     },
     "execution_count": 4,
     "metadata": {},
     "output_type": "execute_result"
    }
   ],
   "source": [
    "variance(X)"
   ]
  },
  {
   "cell_type": "code",
   "execution_count": 5,
   "metadata": {},
   "outputs": [
    {
     "data": {
      "text/latex": [
       "$\\displaystyle 1$"
      ],
      "text/plain": [
       "1"
      ]
     },
     "execution_count": 5,
     "metadata": {},
     "output_type": "execute_result"
    }
   ],
   "source": [
    "E(X)"
   ]
  },
  {
   "cell_type": "code",
   "execution_count": 6,
   "metadata": {},
   "outputs": [],
   "source": [
    "Ex4 = integrate(y**4 * density(X)(y), (y, -np.Inf, np.Inf))\n",
    "Ex2 = integrate(y**2 * density(X)(y), (y, -np.Inf, np.Inf))"
   ]
  },
  {
   "cell_type": "code",
   "execution_count": 7,
   "metadata": {},
   "outputs": [
    {
     "data": {
      "text/latex": [
       "$\\displaystyle 2 \\theta \\left(\\theta + 2\\right)$"
      ],
      "text/plain": [
       "2*theta*(theta + 2)"
      ]
     },
     "execution_count": 7,
     "metadata": {},
     "output_type": "execute_result"
    }
   ],
   "source": [
    "varx2 = Ex4 - Ex2**2\n",
    "varx2.simplify()"
   ]
  }
 ],
 "metadata": {
  "kernelspec": {
   "display_name": "Python 3",
   "language": "python",
   "name": "python3"
  },
  "language_info": {
   "codemirror_mode": {
    "name": "ipython",
    "version": 3
   },
   "file_extension": ".py",
   "mimetype": "text/x-python",
   "name": "python",
   "nbconvert_exporter": "python",
   "pygments_lexer": "ipython3",
   "version": "3.11.1"
  },
  "orig_nbformat": 4
 },
 "nbformat": 4,
 "nbformat_minor": 2
}
