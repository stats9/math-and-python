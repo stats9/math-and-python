{
 "cells": [
  {
   "attachments": {},
   "cell_type": "markdown",
   "metadata": {},
   "source": [
    "<div style=\"background-color:white;padding:20px;\">\n",
    "\n",
    "<p style=\" color : red; font-size : 40px; font-family : consulas; text-align : left;\">\n",
    "\n",
    "<b>\n",
    "Simulate Random Variables, With Using The Inverse Transform Method\n",
    "</b>\n",
    "</p>\n",
    "\n",
    "<br><hr><hr><br><br><br><br>\n",
    "\n",
    "\n",
    "<p style=\" color : darkblue; font-size : 25px; font-family : courier new; text-align : left;\">\n",
    "<br><br>\n",
    "<b>\n",
    "Example I \n",
    "</b>\n",
    "</p>\n",
    "\n",
    "\n",
    "<hr><br><br>\n",
    "<p style=\" color : darkblue; font-size : 20px; font-family : courier new; text-align : left;\">\n",
    "<b>\n",
    "Using the inverse transform method, simulate a random variable with the following density function.\n",
    "</b>\n",
    "</p>\n",
    "<br>\n",
    "\n",
    "$$\n",
    " f(x) = \\frac{1}{2}x + \\frac{1}{2}, \\quad 0 < x < 1, \n",
    "$$\n",
    "\n",
    "#### Answer:\n",
    "\n",
    "\n",
    "$$\n",
    "\\begin{aligned}\n",
    "& F_X(x) = \\int_0^x f(x)~dx = \\int_0^x \\frac{1}{2}x + \\frac{1}{2} ~dx = \\\\\n",
    "& \\left. \\frac{x^2}{2} + \\frac{x}{2} \\right|_0^x = \\frac{x^2}{2} + \\frac{x}{2}\n",
    "\\end{aligned}\n",
    "$$\n",
    "\n",
    "based on  <a  href=\"https://math.stackexchange.com/questions/868400/showing-that-y-has-a-uniform-distribution-if-y-fx-where-f-is-the-cdf-of-contin\"> this link </a> $~~F_X(x) \\sim \\text{Unif}(0, ~1) \\implies $\n",
    "\n",
    "$$\n",
    "\\begin{aligned}\n",
    "& u = \\frac{x^2}{2} + \\frac{x}{2}  \\quad \\overset{{\\tiny \\text{Using} ~\\Delta~\\text{Method}}}{\\implies} \\\\\n",
    "& x = \\frac{-\\frac{1}{2} \\pm \\sqrt{\\frac{1}{4} + 2u}}{1} \\implies \\\\\n",
    "& x_1 = -\\frac{1}{2} +  \\sqrt{\\frac{1}{4} + 2u}, \\\\\n",
    "& x_2 = -\\frac{1}{2} -  \\sqrt{\\frac{1}{4} + 2u} \\quad \\overset{{\\tiny 0 < x < 1}}{\\to} \\quad \\text{Unacceptable} \\implies \\\\\n",
    "& x = -\\frac{1}{2} +  \\sqrt{\\frac{1}{4} + 2u} \\implies \\\\\n",
    "& U = [0.1915,~ 0.6221,~ 0.4377,~ 0.7854,~ 0.78] \\implies \\\\\n",
    "& X = [0.2956,~ 0.7224,~ 0.5609,~ 0.8493,~ 0.8453]\n",
    "\\end{aligned}\n",
    "$$\n",
    "\n",
    "</div>"
   ]
  },
  {
   "attachments": {},
   "cell_type": "markdown",
   "metadata": {},
   "source": [
    "## simulate in python"
   ]
  },
  {
   "cell_type": "code",
   "execution_count": 7,
   "metadata": {},
   "outputs": [],
   "source": [
    "import numpy as np\n",
    "from scipy import stats\n",
    "import matplotlib.pyplot as plt\n",
    "from sympy.stats import ContinuousRV, P, E, variance, cdf\n",
    "from sympy import Interval, Symbol, log, exp, sqrt, Rational"
   ]
  },
  {
   "cell_type": "code",
   "execution_count": 10,
   "metadata": {},
   "outputs": [],
   "source": [
    "## define X as a Random Variable\n",
    "\n",
    "x = Symbol('x')\n",
    "pDf =  x + Rational(1, 2)\n",
    "X = ContinuousRV(x, density = pDf, set = Interval.open(0, 1))"
   ]
  },
  {
   "cell_type": "code",
   "execution_count": 11,
   "metadata": {},
   "outputs": [
    {
     "data": {
      "text/latex": [
       "$\\displaystyle \\begin{cases} \\begin{cases} 0 & \\text{for}\\: x < 0 \\\\\\frac{\\left(\\min\\left(1, x\\right) + 1\\right) \\min\\left(1, x\\right)}{2} & \\text{otherwise} \\end{cases} & \\text{for}\\: x \\geq 0 \\\\0 & \\text{otherwise} \\end{cases}$"
      ],
      "text/plain": [
       "Piecewise((Piecewise((0, x < 0), ((Min(1, x) + 1)*Min(1, x)/2, True)), x >= 0), (0, True))"
      ]
     },
     "execution_count": 11,
     "metadata": {},
     "output_type": "execute_result"
    }
   ],
   "source": [
    "## get cumulative function (CDF) of X \n",
    "\n",
    "cdf(X)(x).simplify()"
   ]
  },
  {
   "cell_type": "code",
   "execution_count": 12,
   "metadata": {},
   "outputs": [
    {
     "data": {
      "text/latex": [
       "$\\displaystyle \\frac{7}{12}$"
      ],
      "text/plain": [
       "7/12"
      ]
     },
     "execution_count": 12,
     "metadata": {},
     "output_type": "execute_result"
    }
   ],
   "source": [
    "## get expectation of X \n",
    "\n",
    "E(X)"
   ]
  },
  {
   "cell_type": "code",
   "execution_count": 13,
   "metadata": {},
   "outputs": [
    {
     "data": {
      "text/latex": [
       "$\\displaystyle \\frac{11}{144}$"
      ],
      "text/plain": [
       "11/144"
      ]
     },
     "execution_count": 13,
     "metadata": {},
     "output_type": "execute_result"
    }
   ],
   "source": [
    "## get Variance of X\n",
    "\n",
    "variance(X)"
   ]
  },
  {
   "cell_type": "code",
   "execution_count": 31,
   "metadata": {},
   "outputs": [
    {
     "name": "stdout",
     "output_type": "stream",
     "text": [
      "[0.1915 0.6221 0.4377 0.7854 0.78  ]\n"
     ]
    },
    {
     "data": {
      "text/plain": [
       "[0.2956, 0.7224, 0.5609, 0.8493, 0.8453]"
      ]
     },
     "execution_count": 31,
     "metadata": {},
     "output_type": "execute_result"
    }
   ],
   "source": [
    "## get above result \n",
    "\n",
    "U = stats.uniform.rvs(0, 1, size = 5, random_state = 1234)\n",
    "print(U.round(4))\n",
    "def f(u):\n",
    "    a = -1/2 + sqrt(1/4 + 2*u)\n",
    "    return a\n",
    "f = np.vectorize(f)\n",
    "xx = f(U)\n",
    "res = list(map(lambda x: x.round(4), xx))\n",
    "res"
   ]
  },
  {
   "cell_type": "code",
   "execution_count": 32,
   "metadata": {},
   "outputs": [
    {
     "name": "stdout",
     "output_type": "stream",
     "text": [
      "\n",
      "Mean of Simulation: 0.584672637901349\n",
      "Mean of Theory: 0.5833333333333334\n",
      "Variance of Simulation: 0.0758054328780650\n",
      "Variance of Theory: 0.0763888888888889\n",
      "\n"
     ]
    }
   ],
   "source": [
    "## simulate with transform method and compare variance and expectation of simulation with Text \n",
    "n = 10**5\n",
    "U1 = stats.uniform.rvs(0, 1, size = n, random_state = n)\n",
    "XX = f(U1)\n",
    "sim_var = XX.var()\n",
    "sim_mean = XX.mean()\n",
    "print(\"\"\"\n",
    "Mean of Simulation: {}\n",
    "Mean of Theory: {}\n",
    "Variance of Simulation: {}\n",
    "Variance of Theory: {}\n",
    "\"\"\".format(sim_mean, 7/12, sim_var, 11/144))"
   ]
  },
  {
   "cell_type": "code",
   "execution_count": 58,
   "metadata": {},
   "outputs": [
    {
     "data": {
      "image/png": "[encoded data removed]",
      "text/plain": [
       "<Figure size 800x800 with 1 Axes>"
      ]
     },
     "metadata": {},
     "output_type": "display_data"
    }
   ],
   "source": [
    "## define density function \n",
    "def f2(x): \n",
    "    res = x + 1/2\n",
    "    return res\n",
    "\n",
    "f2 = np.vectorize(f2)\n",
    "\n",
    "## create histogram and fit density function \n",
    "\n",
    "fig, ax = plt.subplots(figsize  = (8, 8))\n",
    "XX = np.array(XX, dtype = float)\n",
    "m1 = XX.min(); m2 = XX.max()\n",
    "xs = np.linspace(m1, m2, 100000)\n",
    "ys = f2(xs)\n",
    "ys = np.array(ys, dtype = float)\n",
    "ax.hist(XX, color = \"gold\", density = True)\n",
    "ax.plot(xs, ys, color = \"darkblue\")\n",
    "ax.set_title(\"Histogram with fit density function\")\n",
    "ax.set_xlabel(\"x\")\n",
    "ax.set_ylabel(\"y\")\n",
    "plt.show()"
   ]
  },
  {
   "attachments": {},
   "cell_type": "markdown",
   "metadata": {},
   "source": [
    "***\n",
    "***"
   ]
  }
 ],
 "metadata": {
  "kernelspec": {
   "display_name": "Python 3",
   "language": "python",
   "name": "python3"
  },
  "language_info": {
   "codemirror_mode": {
    "name": "ipython",
    "version": 3
   },
   "file_extension": ".py",
   "mimetype": "text/x-python",
   "name": "python",
   "nbconvert_exporter": "python",
   "pygments_lexer": "ipython3",
   "version": "3.11.1"
  },
  "orig_nbformat": 4
 },
 "nbformat": 4,
 "nbformat_minor": 2
}
