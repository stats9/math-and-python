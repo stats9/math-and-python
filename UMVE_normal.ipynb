{
 "cells": [
  {
   "attachments": {},
   "cell_type": "markdown",
   "metadata": {},
   "source": [
    "## Problem: \n",
    "$$\n",
    "\\begin{aligned}\n",
    "& X_1, X_2, ..., X_n \\overset{iid}{\\sim} \\mathcal{N}(\\theta, 1) \\to\\\\\n",
    "& S = \\sum_{i = 1}^n X_i,\\quad \\quad \\text{S = Minimal Sufficient Statistics for}~\\theta \\to\\\\\n",
    "& \\gamma(\\theta) = \\theta^2 \\implies \\\\\n",
    "& \\text{UMVUE for }\\gamma(\\theta) = ? \\quad\\quad  \\text{Variance of UMVUE for }\\gamma(\\theta) = ? \n",
    "\\end{aligned}\n",
    "$$"
   ]
  },
  {
   "attachments": {},
   "cell_type": "markdown",
   "metadata": {},
   "source": [
    "$$\n",
    "\\begin{aligned}\n",
    "& S = \\sum_{i = 1}^n \\implies S \\sim \\mathcal{N}(n\\theta, n) \\implies \\\\\n",
    "& \\mathcal{E}(S^2) = \\text{Var}(S) + \\mathcal{E}(S)^2 = n + (n\\theta)^2 \\implies \n",
    "& \\frac{\\mathcal{E}(S^2) - n}{n^2} = \\theta^2 \\implies \\\\\n",
    "& T = \\frac{S^2 - n}{n^2} ~ ~~\\text{is UMVUE for } \\gamma(\\theta), \\\\\n",
    "& \\text{Var}(T) = \\text{Var}(\\frac{S^2 - n}{n^2}) = \\text{Var}(\\frac{S^2}{n^2}) = \\frac{1}{n^4}\\text{Var}(S^2),\\\\\n",
    "& S \\sim \\mathcal{N}(n\\theta, n)\\implies \\frac{S-n\\theta}{\\sqrt{n}} \\sim\\mathcal{N}(0, 1), \\implies \\\\\n",
    "& \\left(\\frac{S - n\\theta}{\\sqrt{n}}\\right)^2 \\sim \\chi^2_{(1)} \\implies \\\\\n",
    "& \\text{Var}\\left(\\left(\\frac{S - n\\theta}{\\sqrt{n}}\\right)^2\\right) = 2 \\implies \\\\\n",
    "& \\text{Var}\\left(S^2 + n^2\\theta^2 -2nS\\theta\\right) = 2n^2 \\implies \\\\\n",
    "& \\text{Var}\\left(S^2  -2nS\\theta\\right) = 2n^2 \\implies \\\\\n",
    "& \\text{Var}(S^2) -4n\\theta\\text{Cov}(S^2, S) + 4n^2\\theta^2\\text{Var}(S) = 2n^2 \\implies \\\\\n",
    "& \\text{Var}(S^2) = 4n\\theta\\text{Cov}(S^2, S) - 4n^3\\theta^2 + 2n^2 \\to\\\\\n",
    "& \\text{Cov}(S^2, S) = \\mathcal{E}(S^2\\times S) - \\mathcal{E}(S^2)\\times \\mathcal{E}(S) \\\\\n",
    "& = \\mathcal{E}(S^3) - (n + n^2\\theta^2)n\\theta\n",
    "\\end{aligned}\n",
    "$$"
   ]
  },
  {
   "attachments": {},
   "cell_type": "markdown",
   "metadata": {},
   "source": [
    "#### if $X \\sim \\mathcal{N}(\\mu, \\sigma^2) \\implies \\mathcal{E}(X^3) = 3\\mu\\sigma^2 + \\mu^3$ you can prove it or use this [link](https://math.stackexchange.com/questions/1564094/find-the-ex3-of-the-normal-distribution)\n",
    "\n",
    "#### therefore ---> \n",
    "\n",
    "\n"
   ]
  },
  {
   "attachments": {},
   "cell_type": "markdown",
   "metadata": {},
   "source": [
    "$$\n",
    "\\begin{aligned}\n",
    "& \\text{Cov}(S^2, S) = 3 \\times(n\\theta \\times n) + (n\\theta)^3 - n^2\\theta - n^3\\theta^3 = 2n^2\\theta\n",
    "\\end{aligned}\n",
    "$$"
   ]
  },
  {
   "attachments": {},
   "cell_type": "markdown",
   "metadata": {},
   "source": [
    "$$\n",
    "\\begin{aligned}\n",
    "& \\text{Var}(S^2) = 4n\\theta(2n^2\\theta) - 4n^3\\theta^2 + 2n^2 = 4n^3\\theta^2 + 2n^2 \\implies \\\\\n",
    "& \\text{Var}(T) = \\frac{4n^3\\theta^2 + 2n^2}{n^4} = \\\\\n",
    "& \\frac{4\\theta^2}{n} + \\frac{2}{n^2}\n",
    "\\end{aligned}\n",
    "$$"
   ]
  },
  {
   "attachments": {},
   "cell_type": "markdown",
   "metadata": {},
   "source": [
    "#### Use Python --->"
   ]
  },
  {
   "cell_type": "code",
   "execution_count": 31,
   "metadata": {},
   "outputs": [],
   "source": [
    "import numpy as np\n",
    "from sympy import *\n",
    "from sympy.stats import Normal, density\n",
    "from sympy import Symbol\n",
    "t = Symbol('theta', real = True)\n",
    "n = Symbol('n', positive =True)\n",
    "S = Symbol('S', real = True)\n",
    "S = Normal(\"s\", n*t, sqrt(n))"
   ]
  },
  {
   "attachments": {},
   "cell_type": "markdown",
   "metadata": {},
   "source": [
    "$$\n",
    "\\text{Var}(S^2) = \\mathcal{E}(S^4) - (\\mathcal{E}(S^2))^2\n",
    "$$"
   ]
  },
  {
   "cell_type": "code",
   "execution_count": 32,
   "metadata": {},
   "outputs": [
    {
     "data": {
      "text/latex": [
       "$\\displaystyle n \\left(n \\theta^{2} + 1\\right)$"
      ],
      "text/plain": [
       "n*(n*theta**2 + 1)"
      ]
     },
     "execution_count": 32,
     "metadata": {},
     "output_type": "execute_result"
    }
   ],
   "source": [
    "Es2 = integrate(s**2 * density(S)(s), (s, -np.Inf, np.Inf)).simplify()\n",
    "Es2"
   ]
  },
  {
   "cell_type": "code",
   "execution_count": 33,
   "metadata": {},
   "outputs": [
    {
     "data": {
      "text/latex": [
       "$\\displaystyle n^{2} \\left(n^{2} \\theta^{4} + 6 n \\theta^{2} + 3\\right)$"
      ],
      "text/plain": [
       "n**2*(n**2*theta**4 + 6*n*theta**2 + 3)"
      ]
     },
     "execution_count": 33,
     "metadata": {},
     "output_type": "execute_result"
    }
   ],
   "source": [
    "Es4 = integrate(s**4 * density(S)(s), (s, -np.Inf, np.Inf)).simplify()\n",
    "Es4"
   ]
  },
  {
   "cell_type": "code",
   "execution_count": 34,
   "metadata": {},
   "outputs": [
    {
     "data": {
      "text/latex": [
       "$\\displaystyle n^{2} \\cdot \\left(4 n \\theta^{2} + 2\\right)$"
      ],
      "text/plain": [
       "n**2*(4*n*theta**2 + 2)"
      ]
     },
     "execution_count": 34,
     "metadata": {},
     "output_type": "execute_result"
    }
   ],
   "source": [
    "Var_py_s2 = (Es4 - Es2 ** 2).simplify()\n",
    "Var_py_s2"
   ]
  },
  {
   "cell_type": "code",
   "execution_count": 35,
   "metadata": {},
   "outputs": [
    {
     "data": {
      "text/latex": [
       "$\\displaystyle \\frac{4 n \\theta^{2} + 2}{n^{2}}$"
      ],
      "text/plain": [
       "(4*n*theta**2 + 2)/n**2"
      ]
     },
     "execution_count": 35,
     "metadata": {},
     "output_type": "execute_result"
    }
   ],
   "source": [
    "VarT = 1/n**4 * Var_py_s2\n",
    "VarT"
   ]
  }
 ],
 "metadata": {
  "kernelspec": {
   "display_name": "Python 3",
   "language": "python",
   "name": "python3"
  },
  "language_info": {
   "codemirror_mode": {
    "name": "ipython",
    "version": 3
   },
   "file_extension": ".py",
   "mimetype": "text/x-python",
   "name": "python",
   "nbconvert_exporter": "python",
   "pygments_lexer": "ipython3",
   "version": "3.11.1"
  },
  "orig_nbformat": 4,
  "vscode": {
   "interpreter": {
    "hash": "8daae33975c15d277ac0a57969cf22ab22bb1b417b85f8c711213778fd937492"
   }
  }
 },
 "nbformat": 4,
 "nbformat_minor": 2
}
