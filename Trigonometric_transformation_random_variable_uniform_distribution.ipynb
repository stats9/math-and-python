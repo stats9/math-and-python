{
 "cells": [
  {
   "attachments": {},
   "cell_type": "markdown",
   "metadata": {},
   "source": [
    "#### $\\text{X} \\sim \\text{Unif}(0, ~1) \\to\\quad \\text{if}~~ ~ Y = \\sin(2\\pi X)\\to \\text{denstiy of }~~Y = ?$"
   ]
  },
  {
   "cell_type": "code",
   "execution_count": 1,
   "metadata": {},
   "outputs": [],
   "source": [
    "import numpy as np\n",
    "from sympy import*"
   ]
  },
  {
   "cell_type": "code",
   "execution_count": 31,
   "metadata": {},
   "outputs": [],
   "source": [
    "from sympy.stats import Uniform, density, cdf, E, variance, ContinuousRV"
   ]
  },
  {
   "cell_type": "code",
   "execution_count": 3,
   "metadata": {},
   "outputs": [],
   "source": [
    "X = Uniform(\"x\", 0, 1)"
   ]
  },
  {
   "cell_type": "code",
   "execution_count": 4,
   "metadata": {},
   "outputs": [],
   "source": [
    "pi = Symbol(\"pi\", positive=True)\n",
    "x, y = symbols('x y')"
   ]
  },
  {
   "cell_type": "code",
   "execution_count": 5,
   "metadata": {},
   "outputs": [
    {
     "data": {
      "text/latex": [
       "$\\displaystyle \\begin{cases} 1 & \\text{for}\\: x \\geq 0 \\wedge x \\leq 1 \\\\0 & \\text{otherwise} \\end{cases}$"
      ],
      "text/plain": [
       "Piecewise((1, (x >= 0) & (x <= 1)), (0, True))"
      ]
     },
     "execution_count": 5,
     "metadata": {},
     "output_type": "execute_result"
    }
   ],
   "source": [
    "density(X)(x)"
   ]
  },
  {
   "cell_type": "code",
   "execution_count": 6,
   "metadata": {},
   "outputs": [
    {
     "data": {
      "text/latex": [
       "$\\displaystyle \\begin{cases} 0 & \\text{for}\\: x < 0 \\\\x & \\text{for}\\: x \\leq 1 \\\\1 & \\text{otherwise} \\end{cases}$"
      ],
      "text/plain": [
       "Piecewise((0, x < 0), (x, x <= 1), (1, True))"
      ]
     },
     "execution_count": 6,
     "metadata": {},
     "output_type": "execute_result"
    }
   ],
   "source": [
    "cdf(X)(x)"
   ]
  },
  {
   "cell_type": "code",
   "execution_count": 7,
   "metadata": {},
   "outputs": [
    {
     "data": {
      "text/latex": [
       "$\\displaystyle \\frac{1}{2}$"
      ],
      "text/plain": [
       "1/2"
      ]
     },
     "execution_count": 7,
     "metadata": {},
     "output_type": "execute_result"
    }
   ],
   "source": [
    "E(X)"
   ]
  },
  {
   "cell_type": "code",
   "execution_count": 8,
   "metadata": {},
   "outputs": [
    {
     "data": {
      "text/latex": [
       "$\\displaystyle \\frac{1}{12}$"
      ],
      "text/plain": [
       "1/12"
      ]
     },
     "execution_count": 8,
     "metadata": {},
     "output_type": "execute_result"
    }
   ],
   "source": [
    "variance(X)"
   ]
  },
  {
   "cell_type": "code",
   "execution_count": 9,
   "metadata": {},
   "outputs": [
    {
     "data": {
      "text/latex": [
       "$\\displaystyle \\begin{cases} 0 & \\text{for}\\: \\sin{\\left(2 \\pi y \\right)} < 0 \\\\\\sin{\\left(2 \\pi y \\right)} & \\text{for}\\: \\sin{\\left(2 \\pi y \\right)} \\leq 1 \\\\1 & \\text{otherwise} \\end{cases}$"
      ],
      "text/plain": [
       "Piecewise((0, sin(2*pi*y) < 0), (sin(2*pi*y), sin(2*pi*y) <= 1), (1, True))"
      ]
     },
     "execution_count": 9,
     "metadata": {},
     "output_type": "execute_result"
    }
   ],
   "source": [
    "cdf(X)(sin(2 * pi * y))"
   ]
  },
  {
   "cell_type": "code",
   "execution_count": 10,
   "metadata": {},
   "outputs": [
    {
     "data": {
      "text/latex": [
       "$\\displaystyle \\frac{1}{\\pi \\sqrt{1 - y^{2}}}$"
      ],
      "text/plain": [
       "1/(pi*sqrt(1 - y**2))"
      ]
     },
     "execution_count": 10,
     "metadata": {},
     "output_type": "execute_result"
    }
   ],
   "source": [
    "pDf = 1/pi * 1/sqrt(1 - y**2)\n",
    "pDf"
   ]
  },
  {
   "cell_type": "code",
   "execution_count": 11,
   "metadata": {},
   "outputs": [
    {
     "data": {
      "text/latex": [
       "$\\displaystyle \\frac{\\operatorname{asin}{\\left(y \\right)}}{\\pi}$"
      ],
      "text/plain": [
       "asin(y)/pi"
      ]
     },
     "execution_count": 11,
     "metadata": {},
     "output_type": "execute_result"
    }
   ],
   "source": [
    "integrate(pDf, y)"
   ]
  },
  {
   "attachments": {},
   "cell_type": "markdown",
   "metadata": {},
   "source": [
    "<br><br><br><br>\n",
    "<br><b>\n",
    "<div style = \"color:red;\">\n",
    "\n",
    "#### Create A Trigonometric Circle for explain Problem \n",
    "#### define a class for this issue...\n",
    "<br><br></b></div>"
   ]
  },
  {
   "cell_type": "code",
   "execution_count": 12,
   "metadata": {},
   "outputs": [],
   "source": [
    "import math\n",
    "import matplotlib.pyplot as plt\n",
    "import numpy as np\n",
    "from mpl_toolkits.axisartist import SubplotZero\n",
    "\n",
    "\n",
    "class TrigAxes():\n",
    "    \n",
    "    def __init__(self, figsize=(12,5)):\n",
    "        self.xlim = (-1.2, 1.2)\n",
    "        self.ylim = (-1.2, 1.2)\n",
    "        self.figsize  = figsize\n",
    "        self.angles   = []\n",
    "        self.scale_arrows()\n",
    "\n",
    "    def __arrow__(self, x, y, dx, dy, width, length):\n",
    "        plt.arrow(\n",
    "            x, y, dx, dy, \n",
    "            color       = 'k',\n",
    "            clip_on     = False, \n",
    "            head_width  = self.head_width, \n",
    "            head_length = self.head_length\n",
    "        ) \n",
    "        \n",
    "    def __drawAxis__(self):\n",
    "        \"\"\"\n",
    "        Draws the 2D cartesian axis\n",
    "        \"\"\"\n",
    "        # A subplot with two additional axis, \"xzero\" and \"yzero\"\n",
    "        # corresponding to the cartesian axis\n",
    "        ax = SubplotZero(self.fig, 1, 1, 1)\n",
    "        self.fig.add_subplot(ax)\n",
    "        \n",
    "        # make xzero axis (horizontal axis line through y=0) visible.\n",
    "        for axis in [\"xzero\",\"yzero\"]:\n",
    "            ax.axis[axis].set_visible(True)\n",
    "        # make the other axis (left, bottom, top, right) invisible\n",
    "        for n in [\"left\", \"right\", \"bottom\", \"top\"]:\n",
    "            ax.axis[n].set_visible(False)\n",
    "            \n",
    "        # Plot limits\n",
    "        plt.xlim(self.xlim)\n",
    "        plt.ylim(self.ylim)\n",
    "        \n",
    "        # No ticks for the trigonometric circle\n",
    "        ax = plt.gca()\n",
    "        ax.axes.xaxis.set_ticks([])\n",
    "        ax.axes.yaxis.set_ticks([])\n",
    "\n",
    "        # Draw the trigonometric circle\n",
    "        self.circle = plt.Circle((0, 0), 1, color='#000000', fill=False)\n",
    "        ax.add_artist(self.circle)\n",
    "        \n",
    "        # Draw the arrows\n",
    "        self.__arrow__(self.xlim[1], 0, 0.01, 0, 0.3, 0.2) # x-axis arrow\n",
    "        self.__arrow__(0, self.ylim[1], 0, 0.01, 0.2, 0.3) # y-axis arrow\n",
    "        \n",
    "    def scale_arrows(self):\n",
    "        \"\"\" Make the arrows look good regardless of the axis limits \"\"\"\n",
    "        xrange = self.xlim[1] - self.xlim[0]\n",
    "        yrange = self.ylim[1] - self.ylim[0]\n",
    "        \n",
    "        self.head_width  = min(xrange/30, 0.25)\n",
    "        self.head_length = min(yrange/30, 0.3)\n",
    "        \n",
    "        \n",
    "    def draw(self, imgpath=None):\n",
    "        \n",
    "        self.scale_arrows()\n",
    "        self.fig = plt.figure(figsize=self.figsize)\n",
    "        # First draw the axis\n",
    "        self.__drawAxis__()\n",
    "        # Plot each vector\n",
    "        for angle in self.angles:\n",
    "            angle.draw()\n",
    "        # Save the image?\n",
    "        if imgpath:\n",
    "            plt.tight_layout()\n",
    "            plt.savefig(imgpath, dpi=100)\n",
    "        plt.show()\n",
    "    \n",
    "    #-------------------------------------------------\n",
    "    # Angles\n",
    "    #-------------------------------------------------\n",
    "    def addAngles(self, angles):\n",
    "        for a in angles:\n",
    "            self.addAngle(a)\n",
    "            \n",
    "    def addAngle(self, a):\n",
    "        # Modify the head length & width of the vector \n",
    "        # so it looks good for this axis\n",
    "        a.head_width  =  self.head_width / 2.\n",
    "        a.head_length =  self.head_length / 2.\n",
    "        self.angles.append(a)\n",
    "\n",
    "\n",
    "\n",
    "\n",
    "## define a class for add angle to circle of Trigonometric\n",
    "\n",
    "class Angle():\n",
    "    \"\"\"\n",
    "    Angle(theta, label)\n",
    "        theta: angle on the trigonometric circle\n",
    "        label: optional label, default is theta\n",
    "    \"\"\"\n",
    "    def __init__(self, theta, \n",
    "                 label       = None,\n",
    "                 color       = '#6897bb', \n",
    "                 linewidth   = 0.01, \n",
    "                 linestyle   = '-',\n",
    "                 head_width  = 0.25,\n",
    "                 head_length = 0.3\n",
    "                ):\n",
    "        # Theta, label\n",
    "        self.theta = math.radians(theta)\n",
    "        if label:\n",
    "            self.label = str(label)\n",
    "        else:\n",
    "            self.label = str(theta)\n",
    "            \n",
    "        # Drawing options\n",
    "        self.color = color\n",
    "        self.linewidth = linewidth\n",
    "        self.linestyle = linestyle\n",
    "        self.head_width  = head_width\n",
    "        self.head_length = head_length\n",
    "        self.text_args = {\n",
    "            'ha': 'left', \n",
    "            'va': 'center', \n",
    "            'fontsize': 12, \n",
    "            'color': self.color\n",
    "        }\n",
    "\n",
    "    \n",
    "    def draw(self):\n",
    "        # Plot the vector\n",
    "        plt.arrow(\n",
    "            0, 0,\n",
    "            math.cos(self.theta), math.sin(self.theta), \n",
    "            color = self.color,\n",
    "            width = self.linewidth,\n",
    "            head_width = self.head_width, \n",
    "            head_length = self.head_length\n",
    "        )\n",
    "        # Add the label\n",
    "        plt.text(\n",
    "            math.cos(self.theta) + 0.1,\n",
    "            math.sin(self.theta) + 0.1,\n",
    "            self.label,\n",
    "            **self.text_args\n",
    "        )"
   ]
  },
  {
   "cell_type": "code",
   "execution_count": 13,
   "metadata": {},
   "outputs": [
    {
     "data": {
      "image/png": "[encoded data removed]",
      "text/plain": [
       "<Figure size 500x400 with 1 Axes>"
      ]
     },
     "metadata": {},
     "output_type": "display_data"
    }
   ],
   "source": [
    "# Create the trigonometric axis\n",
    "axes = TrigAxes(figsize=(5,4))\n",
    "\n",
    "axes.addAngle(Angle(30, label='theta1 = 30', color='blue', linewidth=0.02))\n",
    "axes.addAngle(Angle(150, label='theta2 = 150', color='red', linewidth=0.02))\n",
    "axes.addAngle(Angle(-30, label='theta3 = -30', color='green', linewidth=0.02))\n",
    "axes.addAngle(Angle(-150, label='theta4 = -150', color='brown', linewidth=0.02))\n",
    "\n",
    "axes.draw()"
   ]
  },
  {
   "attachments": {},
   "cell_type": "markdown",
   "metadata": {},
   "source": [
    "<br><br><br><br>\n",
    "<hr>\n",
    "<br><br>\n",
    "<div style = \"color : blue;\">\n",
    "\n",
    "#### Manual Soloution"
   ]
  },
  {
   "attachments": {},
   "cell_type": "markdown",
   "metadata": {},
   "source": [
    "$$\n",
    "\\begin{align}\n",
    "& \\mathcal{P}(Y \\leq y) = \\begin{cases}p_1 & 0 \\leq y \\leq 1, \\\\ p_2 & -1 \\leq y < 0. \\end{cases} \\implies \\\\\n",
    "& p_1 = \\mathcal{P}(Y \\leq 0) + \\mathcal{P}(Y \\leq y, y > 0) = \\mathcal{P}\\left(\\sin(2\\pi X) \\leq y, x \\leq \\frac{1}{2}\\right) = \\\\\n",
    "& \\mathcal{P}(Y \\leq 0) + \\mathcal{P}\\left(0 \\leq x \\leq \\frac{\\arcsin(y)}{2\\pi}\\right) + \\mathcal{P}\\left(\\frac{\\pi - \\arcsin(y)}{2\\pi} \\leq x \\leq \\frac{\\pi}{2\\pi}\\right)= \\\\\n",
    "& \\mathcal{P}(Y \\leq 0) + \\frac{\\arcsin(y)}{2\\pi} + \\frac{\\pi}{2\\pi} - \\frac{\\pi - \\arcsin(y)}{2\\pi} = \\mathcal{P}(Y \\leq 0) + \\frac{\\arcsin(y)}{\\pi}, \\\\\n",
    "& p_2 = \\mathcal{P}(Y \\leq y, y < 0) = \\mathcal{P}\\left(\\sin(2\\pi X) \\leq y, x > \\frac{1}{2}\\right) = \\\\\n",
    "& \\mathcal{P}\\left(\\frac{\\frac{3\\pi}{2}}{2\\pi} \\leq x \\leq \\frac{2\\pi + \\arcsin(y)}{2\\pi}\\right) + \\mathcal{P}\\left(\\frac{\\pi - \\arcsin(y)}{2\\pi} \\leq x \\leq \\frac{\\frac{3\\pi}{2}}{2\\pi}\\right)= \\\\\n",
    "& \\frac{2\\pi + \\arcsin(y)}{2\\pi} - \\frac{\\frac{3\\pi}{2}}{2\\pi} + \\frac{\\frac{3\\pi}{2}}{2\\pi} -  \\frac{\\pi - \\arcsin(y)}{2\\pi} = \\\\\n",
    "& \\frac{\\pi}{2\\pi} + \\frac{2\\arcsin(y)}{2\\pi} = \\frac{1}{2} + \\frac{\\arcsin(y)}{\\pi} \\implies \\\\\n",
    "& \\mathcal{P}(Y \\leq 0) = \\frac{1}{2} + \\frac{\\arcsin(0)}{\\pi} = \\frac{1}{2} \\implies \\\\\n",
    "& p_1 = \\frac{1}{2} + \\frac{\\arcsin(y)}{\\pi} \\implies \\\\\n",
    "& F_Y(y) = \\begin{cases} 0 & y < -1, \\\\ \\frac{1}{2} + \\frac{\\arcsin(y)}{\\pi} & -1 \\leq y < 1, \\\\ 1 & \n",
    "y \\geq 1.\\end{cases} \\implies \\\\\n",
    "& f_Y(y) = \\begin{cases} \\frac{1}{\\pi\\sqrt{1 - y^2}} & -1 < y < 1, \\\\ 0 & \\text{Others}. \\end{cases}\n",
    "\\end{align}\n",
    "$$"
   ]
  },
  {
   "attachments": {},
   "cell_type": "markdown",
   "metadata": {},
   "source": [
    "<br><br><br><hr><br><br>\n",
    "\n",
    "<div style = \"color : blue;\">\n",
    "\n",
    "#### Python Soloution"
   ]
  },
  {
   "cell_type": "code",
   "execution_count": 23,
   "metadata": {},
   "outputs": [],
   "source": [
    "Y = ContinuousRV(y, density = pDf, set = Interval.open(-1, 1))"
   ]
  },
  {
   "cell_type": "code",
   "execution_count": 24,
   "metadata": {},
   "outputs": [
    {
     "data": {
      "text/latex": [
       "$\\displaystyle \\begin{cases} \\frac{1}{\\pi \\sqrt{1 - y^{2}}} & \\text{for}\\: y > -1 \\wedge y < 1 \\\\0 & \\text{otherwise} \\end{cases}$"
      ],
      "text/plain": [
       "Piecewise((1/(pi*sqrt(1 - y**2)), (y > -1) & (y < 1)), (0, True))"
      ]
     },
     "execution_count": 24,
     "metadata": {},
     "output_type": "execute_result"
    }
   ],
   "source": [
    "density(Y)(y)"
   ]
  },
  {
   "cell_type": "code",
   "execution_count": 25,
   "metadata": {},
   "outputs": [
    {
     "data": {
      "text/latex": [
       "$\\displaystyle \\begin{cases} \\begin{cases} 0 & \\text{for}\\: y < -1 \\\\\\frac{\\operatorname{asin}{\\left(\\min\\left(1, y\\right) \\right)}}{\\pi} + \\frac{\\pi}{2 \\pi} & \\text{otherwise} \\end{cases} & \\text{for}\\: y \\geq -1 \\\\0 & \\text{otherwise} \\end{cases}$"
      ],
      "text/plain": [
       "Piecewise((Piecewise((0, y < -1), (asin(Min(1, y))/pi + pi/(2*pi), True)), y >= -1), (0, True))"
      ]
     },
     "execution_count": 25,
     "metadata": {},
     "output_type": "execute_result"
    }
   ],
   "source": [
    "cdf(Y)(y)"
   ]
  },
  {
   "attachments": {},
   "cell_type": "markdown",
   "metadata": {},
   "source": [
    "#### Expectation of Y"
   ]
  },
  {
   "cell_type": "code",
   "execution_count": 26,
   "metadata": {},
   "outputs": [
    {
     "data": {
      "text/latex": [
       "$\\displaystyle 0$"
      ],
      "text/plain": [
       "0"
      ]
     },
     "execution_count": 26,
     "metadata": {},
     "output_type": "execute_result"
    }
   ],
   "source": [
    "E(Y)"
   ]
  },
  {
   "attachments": {},
   "cell_type": "markdown",
   "metadata": {},
   "source": [
    "#### Variance of Y"
   ]
  },
  {
   "cell_type": "code",
   "execution_count": 30,
   "metadata": {},
   "outputs": [
    {
     "data": {
      "text/latex": [
       "$\\displaystyle \\frac{\\pi}{2 \\pi}$"
      ],
      "text/plain": [
       "pi/(2*pi)"
      ]
     },
     "execution_count": 30,
     "metadata": {},
     "output_type": "execute_result"
    }
   ],
   "source": [
    "variance(Y)"
   ]
  }
 ],
 "metadata": {
  "kernelspec": {
   "display_name": "Python 3",
   "language": "python",
   "name": "python3"
  },
  "language_info": {
   "codemirror_mode": {
    "name": "ipython",
    "version": 3
   },
   "file_extension": ".py",
   "mimetype": "text/x-python",
   "name": "python",
   "nbconvert_exporter": "python",
   "pygments_lexer": "ipython3",
   "version": "3.11.0"
  },
  "orig_nbformat": 4,
  "vscode": {
   "interpreter": {
    "hash": "8daae33975c15d277ac0a57969cf22ab22bb1b417b85f8c711213778fd937492"
   }
  }
 },
 "nbformat": 4,
 "nbformat_minor": 2
}
