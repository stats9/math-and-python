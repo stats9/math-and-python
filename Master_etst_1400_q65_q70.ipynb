{
 "cells": [
  {
   "attachments": {},
   "cell_type": "markdown",
   "metadata": {},
   "source": [
    "# ma entrance examination 1400 (Statistics)\n",
    "### Problems: 65, 66, 67, 68, 69, 70\n",
    "\n",
    "<br><br><br>"
   ]
  },
  {
   "attachments": {},
   "cell_type": "markdown",
   "metadata": {},
   "source": [
    "### Problem 70: "
   ]
  },
  {
   "attachments": {},
   "cell_type": "markdown",
   "metadata": {},
   "source": [
    "$$\n",
    "\\begin{aligned}\n",
    "& X \\sim \\text{Unif}(0, 1), ~~\\text{if}\\quad Y = \\begin{cases}1 & X \\geq a, \\\\ 0 & X < a,\\end{cases}\\quad \\text{and}~~ 0 < a < 1 \\implies \\\\\n",
    "& \\max \\text{Corr}(X, Y) = ?\n",
    "\\end{aligned}\n",
    "$$"
   ]
  },
  {
   "attachments": {},
   "cell_type": "markdown",
   "metadata": {},
   "source": [
    "### Answer   ---> \n",
    "<br><Br>\n",
    "\n",
    "$$\n",
    "\\begin{aligned}\n",
    "& \\text{Corr}(X, Y) = \\frac{\\text{Cov}(X, Y)}{\\sqrt{\\text{Var}(X) \\times \\text{Var}(Y)}}, \\\\\n",
    "& Y \\sim \\text{Binom}(1, prob = \\mathcal{P}(X \\geq a)) \\implies Y \\sim \\text{Binom}(1, 1-a),\\\\\n",
    "& \\text{Var}(X) = \\frac{1}{12}~, ~~\\text{Var}(Y) = a \\times (1-a), ~~ \\mathcal{E}(X) = \\frac{1}{2}, ~~\\mathcal{E}(Y) = 1-a \\implies\\\\\n",
    "& \\text{Cov}(X, Y) = \\mathcal{E}(XY) - \\mathcal{E}(X)\\mathcal{E}(Y), \\\\\n",
    "& \\mathcal{E}(XY) = \\int_{s_x}\\sum_{y = 0}^1 xy f(x, y)~ dx = \\\\\n",
    "& \\int_{s_x}xf(x, y = 1)~dx = \\int_{s_x}xf(x, x \\geq a)~dx = \\int_a^1 xf(x)~dx \\quad\\quad\\quad (i)\\\\\n",
    "& = \\int_a^1 x~dx = \\frac{1-a^2}{2}\\\\\n",
    "& \\implies \\text{Cov}(X, Y) = \\frac{1-a^2}{2} - \\frac{1}{2}\\times (1-a) = \\frac{1-a^2 -(1-a)}{2} = \\frac{a(1-a)}{2}, \\\\\n",
    "&\\implies \\text{Corr}(X, Y) = \\frac{\\frac{a(1-a)}{2}}{\\sqrt{\\frac{1}{12}\\times a(1-a)}} = \\sqrt{3} \\times \\sqrt{a(1-a)}\\\\\n",
    "& \\underset{a}{\\argmax} ~~\\sqrt{3} \\times \\sqrt{a(1-a)} = \\underset{a}{\\argmax}~~ a(1-a) = \\frac{1}{2} ~ ? \\implies \\\\\n",
    "& \\max \\text{Corr}(X, Y) = \\sqrt{3}\\times \\sqrt{\\frac{1}{2}\\times (1 - \\frac{1}{2})} = \\frac{\\sqrt{3}}{2}\n",
    "\\end{aligned}\n",
    "$$"
   ]
  },
  {
   "cell_type": "code",
   "execution_count": 59,
   "metadata": {},
   "outputs": [
    {
     "name": "stdout",
     "output_type": "stream",
     "text": [
      "\n",
      "max of correlation between X and Y       : 0.8659, \n",
      "\n",
      "and value of a that make max correlation : 0.5000, \n",
      "\n",
      "sqrt(3)/2                                : 0.8660.\n",
      "\n"
     ]
    }
   ],
   "source": [
    "## python simulate\n",
    "\n",
    "import numpy as np \n",
    "from scipy.stats import uniform\n",
    "a, b = 0, 1\n",
    "rv = uniform(a, b)\n",
    "def q_70(n, a):\n",
    "    x_sim = rv.rvs(size = n, random_state = 1234)\n",
    "    y_sim = 1 * (x_sim >= a)\n",
    "    temp1 = np.stack((x_sim, y_sim), axis = 0)\n",
    "    cor_result = np.corrcoef(temp1)[0, 1]\n",
    "    return cor_result\n",
    "\n",
    "a = np.linspace(0, 1, 50)\n",
    "a = a[1:(len(a)-1)] # remove 0, 1 \n",
    "a = np.append(a, 1/2) # add 1/2\n",
    "n = int(1e+6) # define number of iteration to simulate data\n",
    "q_70 = np.vectorize(q_70)\n",
    "Result = q_70(n = n, a = a)\n",
    "print(\"\"\"\n",
    "max of correlation between X and Y       : {:.4f}, \\n\n",
    "and value of a that make max correlation : {:.4f}, \\n\n",
    "sqrt(3)/2                                : {:.4f}.\n",
    "\"\"\".format(Result.max(), a[Result.argmax()], np.sqrt(3)/2))"
   ]
  },
  {
   "attachments": {},
   "cell_type": "markdown",
   "metadata": {},
   "source": [
    "<hr><hr>\n",
    "\n",
    "<br><br>\n",
    "\n",
    "### Problem 69\n"
   ]
  },
  {
   "attachments": {},
   "cell_type": "markdown",
   "metadata": {},
   "source": [
    "### Ansewer --->\n",
    "<br><br>\n",
    "$$\n",
    "\\begin{aligned}\n",
    "& \\text{if}~~ X\\sim F, ~~ \\mathcal{P}(X \\geq 0) = 1, ~~ \\mathcal{E}(X^2) < +\\infty,  ~~ 0 < a < 1 \\implies \\\\\n",
    "& ~ \\\\\n",
    "& \\text{Proof By Contradiction}: \\\\\n",
    "& ~\\\\\n",
    "&  \\mathcal{E}(X) \\leq \\mathcal{E}(X\\text{I}_{\\left\\{X > a\\mathcal{E}(X)\\right\\}}) \\\\\n",
    "& ~\\\\\n",
    "& \\overset{\\underset{\\text{Problem 70}}{(i)}}{\\iff}  \\int_0^\\infty xf(x)dx \\leq \\int_{a\\mathcal{E}(X)}^\\infty xf(x)dx\\\\\n",
    "& ~\\\\\n",
    "& \\iff \\int_{0}^{a\\mathcal{E}(X)}xf(x)dx \\leq 0 ~~\\boldsymbol{{\\Large \\therefore}}\\\\\n",
    "& ~ \\\\\n",
    "&\\iff \\mathcal{P}(X = 0) = 1 \\lor a = 0\\quad \\text{False}\n",
    "\\end{aligned}\n",
    "$$"
   ]
  },
  {
   "attachments": {},
   "cell_type": "markdown",
   "metadata": {},
   "source": [
    "<hr><hr>\n",
    "<br><br><br>\n",
    "\n",
    "\n",
    "### Problem 68 \n"
   ]
  },
  {
   "attachments": {},
   "cell_type": "markdown",
   "metadata": {},
   "source": [
    "$$\n",
    "\\def\\ind{\\perp\\!\\!\\!\\!\\perp} \n",
    "\\begin{aligned}\n",
    "&\\text{let}~~ X_i \\overset{iid}{\\sim}\\mathcal{N}(0, 1), \\quad i = 1, 2. \\\\\n",
    "& U \\sim \\text{Unif}(0, 1) ~~\\text{and}~~ U \\ind X_i, \\quad i = 1, 2. \\\\\n",
    "\\end{aligned}\n",
    "$$"
   ]
  },
  {
   "attachments": {},
   "cell_type": "markdown",
   "metadata": {},
   "source": [
    "$$\n",
    "\\begin{aligned}\n",
    "& Z = UX_1 + (1-U)X_2 \\implies \\text{Var}(Z) = ?\n",
    "\\end{aligned}\n",
    "$$"
   ]
  },
  {
   "attachments": {},
   "cell_type": "markdown",
   "metadata": {},
   "source": [
    "### Answer ---> \n",
    "\n",
    "\n",
    "$$\n",
    "\\begin{aligned}\n",
    "& \\mathcal{E}(X_1) = \\mathcal{E}(X_2) = 0, ~~ \\mathcal{E}(U) = \\frac{1}{2}, ~~\\mathcal{E}(X_1^2) = \\mathcal{E}(X_2^2) = 1, ~~ \\mathcal{E}(U^2) = \\frac{1}{3}\\\\\n",
    "& \\text{Var}(Z) = \\mathcal{E}(Z^2) - \\mathcal{E}(Z)^2 = \\mathcal{E}((UX_1 + (1-U)X_2)^2) - (\\mathcal{E}(UX_1 + (1-U)X_2))^2 = \\\\\n",
    "& \\mathcal{E}(U^2 X_1 ^2 - 2U^2 X_1 X_2 + U^2 X_2 ^2 + 2U X_1 X_2 - 2UX_2 ^2 + X_2 ^2)-0 = \\\\\n",
    "& \\frac{1}{3}\\times 1 -0 + \\frac{1}{3}\\times 1 -2\\times \\frac{1}{2}\\times 1 + 1 = \\frac{2}{3}\n",
    "\\end{aligned}\n",
    "$$"
   ]
  },
  {
   "attachments": {},
   "cell_type": "markdown",
   "metadata": {},
   "source": [
    "<hr><hr><br><br><br>\n",
    "\n",
    "## Problem 67\n",
    "\n",
    "\n",
    "\n",
    "$$\n",
    "\\def\\E{\\mathcal{E}}\n",
    "\\def\\N{\\mathcal{N}}\n",
    "\\def\\v{\\text{Var}}\n",
    "\\def\\c{\\text{Cov}}\n",
    "\\begin{aligned}\n",
    "&\\text{if} ~~ (X, Y) \\sim \\N(\\mu_x, \\mu_y, \\sigma^2_x, \\sigma^2_y, \\rho), \\\\\n",
    "&\\text{Var}(X) = 1, ~~ \\E(X \\vert Y = y) = \\frac{1}{16}y - 3, \\quad \\E(Y\\vert X = x) = 4x + 3 \\implies \\E(\\text{Var}(Y \\vert X = x)) = ? \n",
    "\\end{aligned}\n",
    "$$\n",
    "\n",
    "<br>\n",
    "\n",
    "### Answer --->\n",
    "\n",
    "$$\n",
    "\\begin{aligned}\n",
    "& \\text{Cov}(X, Y) = \\text{Cov}(X, \\E(Y\\vert X)) = \\text{Cov}(X, 4X + 3) = 4\\text{Var}(X) = 4, \\\\\n",
    "& \\text{Cov}(X, Y) = 4 = \\text{Cov}(Y, \\E(X\\vert Y)) = \\frac{1}{16}\\text{Var}(Y) \\implies \\text{Var}(Y) = 64, \\\\\n",
    "& \\text{Var}(Y) = \\text{Var}(\\E(Y|X)) + \\E(\\v(Y\\vert X)) = \\v(4X + 3) + \\E(\\v(Y\\vert X)) = 16\\v(X) + \\E(\\v(Y\\vert X))\\\\\n",
    "&= 16 + \\E(\\v(Y\\vert X))\\implies \\E(\\v(Y\\vert X)) = 64 - 16 = 48\n",
    "\\end{aligned}\n",
    "$$\n",
    "##"
   ]
  },
  {
   "attachments": {},
   "cell_type": "markdown",
   "metadata": {},
   "source": [
    "<hr><hr>\n",
    "<br><br>\n",
    "\n",
    "### Problem 66\n",
    "\n",
    "$$\n",
    "\\begin{aligned}\n",
    "& \\text{MG}_{X_1, X_2, X_3}(t_1, t_2, t_3) = \\left[\\frac{1}{9}e^{t_1} + \\frac{2}{9}e^{t_2} + \\frac{3}{9}e^{t_3} + \\frac{1}{3}\\right]^{10}\\\\\n",
    "& \\implies \\E(X_1 | X_2 = 3) = ?\n",
    "\\end{aligned}\n",
    "$$\n",
    "\n",
    "<br><br>\n",
    "\n",
    "### Answer ---> \n",
    "\n",
    "$$\n",
    "\\begin{aligned}\n",
    "&\\overset{\\text{MG function}}{\\implies} (X_1, X_2, X_3) \\sim \\mathcal{MN}\\left(\\text{size} = 10, \\text{Prob} = \\left(\\frac{1}{9}, \\frac{2}{9}, \\frac{3}{9}\\right)\\right) \\implies\\\\\n",
    "& (X_1, X_2) \\sim \\mathcal{MN}\\left(\\text{size} = 10, \\text{Prob} = \\left(\\frac{1}{9}, \\frac{2}{9}\\right)\\right)\\implies \\\\\n",
    "& \\text{if}\\quad Y = X_1 | X_2 = x \\implies Y \\sim \\text{Binom}(10 - x, \\text{prob} = \\frac{p_{x_1}}{1-p_{x_2}}) \\implies \\\\\n",
    "& X_1 | X_2 = 3 \\sim \\text{Binom}(\\text{size} = 10 - 3, \\text{prob} = \\frac{\\frac{1}{9}}{1- \\frac{2}{9}}) = \\text{Binom}(\\text{size} = 7, \\text{prob} = \\frac{1}{7})\\\\\n",
    "& \\implies \\E(X_1 | X_2 = 3) = 7\\times \\frac{1}{7} = 1\n",
    "\\end{aligned}\n",
    "$$\n",
    "\n",
    "<br> \n",
    "\n",
    "#### for more details about conditional Mulinomial Distribuion you can see this [link](https://math.stackexchange.com/questions/934941/conditional-probability-in-multinomial-distribution)."
   ]
  },
  {
   "attachments": {},
   "cell_type": "markdown",
   "metadata": {},
   "source": [
    "<hr><hr>\n",
    "<br><br>\n",
    "\n",
    "\n",
    "### Problem 65\n",
    "\n",
    "$$\n",
    "(X, Y) \\sim \\N_2(5, 5, 25, 25, 0) \\implies \\mathcal{P}\\left[X^2 +Y^2 - 10(X + Y) > 25\\right] = ? \n",
    "$$\n",
    "\n",
    "<br><br>\n",
    "\n",
    "\n",
    "### Answer ---> \n",
    "\n",
    "$$\n",
    "\\begin{aligned}\n",
    "& \\overset{\\text{Assumptions}}{\\implies} \\quad\\E(X) = \\E(Y) = 5, ~~\\v(X) = \\v(Y) = 25,~~ \\rho(X, Y) = 0  \\implies X \\ind Y, \\\\\n",
    "& \\mathcal{P}\\left[X^2 +Y^2 - 10(X + Y) > 25\\right] = \\mathcal{P}\\left[(X^2 -10X + 25) + (Y^2 - 10Y + 25) - 50 > 25\\right]=\\\\\n",
    "& \\mathcal{P}\\left[(X- 5)^2 + (Y - 5)^2  > 75\\right] = \\mathcal{P}\\left[\\frac{(X- 5)^2}{25} + \\frac{(Y - 5)^2}{25}  > 3\\right]= \\\\\n",
    "&\\mathcal{P}\\left[\\left(\\frac{X-\\mu_x}{\\sigma_x}\\right)^2 + \\left(\\frac{Y - \\mu_y}{\\sigma_y}\\right)^2  > 3\\right] = \\\\\n",
    "& \\mathcal{P}\\left[Z_1^2 + Z_2^2 > 3\\right] = P^*, ~~ Z_i \\overset{iid}{\\sim} \\N(0, 1) \\\\\n",
    "& \\implies P^* = \\mathcal{P}\\left[\\chi^2_{(2)} > 3\\right] = \\int_{3}^\\infty \\frac{1}{2}\\exp(-\\frac{1}{2}x)~ dx = \\exp(-\\frac{1}{2}\\times 3) = \\exp(-\\frac{3}{2})\n",
    "\\end{aligned}\n",
    "$$"
   ]
  }
 ],
 "metadata": {
  "kernelspec": {
   "display_name": "Python 3",
   "language": "python",
   "name": "python3"
  },
  "language_info": {
   "codemirror_mode": {
    "name": "ipython",
    "version": 3
   },
   "file_extension": ".py",
   "mimetype": "text/x-python",
   "name": "python",
   "nbconvert_exporter": "python",
   "pygments_lexer": "ipython3",
   "version": "3.11.1"
  },
  "orig_nbformat": 4,
  "vscode": {
   "interpreter": {
    "hash": "8daae33975c15d277ac0a57969cf22ab22bb1b417b85f8c711213778fd937492"
   }
  }
 },
 "nbformat": 4,
 "nbformat_minor": 2
}
